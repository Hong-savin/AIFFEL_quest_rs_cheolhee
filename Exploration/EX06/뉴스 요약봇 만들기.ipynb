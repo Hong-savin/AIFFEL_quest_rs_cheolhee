{
 "cells": [
  {
   "cell_type": "markdown",
   "id": "8bbb54d3",
   "metadata": {},
   "source": [
    "분석단계, 정제단계, 정규화와 불용어 제거, 데이터셋 분리, 인코딩 과정이 빠짐없이 체계적으로 진행되었다."
   ]
  },
  {
   "cell_type": "markdown",
   "id": "36dcc3c2",
   "metadata": {},
   "source": [
    "## Step 1. 데이터 수집하기"
   ]
  },
  {
   "cell_type": "code",
   "execution_count": 2,
   "id": "b8fb9f39",
   "metadata": {},
   "outputs": [
    {
     "name": "stderr",
     "output_type": "stream",
     "text": [
      "[nltk_data] Downloading package stopwords to /aiffel/nltk_data...\n",
      "[nltk_data]   Package stopwords is already up-to-date!\n"
     ]
    },
    {
     "data": {
      "text/plain": [
       "True"
      ]
     },
     "execution_count": 2,
     "metadata": {},
     "output_type": "execute_result"
    }
   ],
   "source": [
    "import nltk\n",
    "nltk.download('stopwords')"
   ]
  },
  {
   "cell_type": "code",
   "execution_count": 3,
   "id": "4d74a154",
   "metadata": {},
   "outputs": [],
   "source": [
    "import numpy as np\n",
    "import pandas as pd\n",
    "import os\n",
    "import re\n",
    "import matplotlib.pyplot as plt\n",
    "from nltk.corpus import stopwords\n",
    "from bs4 import BeautifulSoup \n",
    "from tensorflow.keras.preprocessing.text import Tokenizer \n",
    "from tensorflow.keras.preprocessing.sequence import pad_sequences\n",
    "import urllib.request\n",
    "import warnings\n",
    "import summa\n",
    "import matplotlib.pyplot as plt\n",
    "warnings.filterwarnings(\"ignore\", category=UserWarning, module='bs4')\n"
   ]
  },
  {
   "cell_type": "code",
   "execution_count": 4,
   "id": "4ca4abbb",
   "metadata": {},
   "outputs": [],
   "source": [
    "urllib.request.urlretrieve(\"https://raw.githubusercontent.com/sunnysai12345/News_Summary/master/news_summary_more.csv\", filename=\"news_summary_more.csv\")\n",
    "data = pd.read_csv('news_summary_more.csv', encoding='iso-8859-1')"
   ]
  },
  {
   "cell_type": "code",
   "execution_count": 5,
   "id": "a2666cb2",
   "metadata": {},
   "outputs": [
    {
     "data": {
      "text/html": [
       "<div>\n",
       "<style scoped>\n",
       "    .dataframe tbody tr th:only-of-type {\n",
       "        vertical-align: middle;\n",
       "    }\n",
       "\n",
       "    .dataframe tbody tr th {\n",
       "        vertical-align: top;\n",
       "    }\n",
       "\n",
       "    .dataframe thead th {\n",
       "        text-align: right;\n",
       "    }\n",
       "</style>\n",
       "<table border=\"1\" class=\"dataframe\">\n",
       "  <thead>\n",
       "    <tr style=\"text-align: right;\">\n",
       "      <th></th>\n",
       "      <th>headlines</th>\n",
       "      <th>text</th>\n",
       "    </tr>\n",
       "  </thead>\n",
       "  <tbody>\n",
       "    <tr>\n",
       "      <th>45169</th>\n",
       "      <td>Fake crypto firm lists Ryan Gosling as graphic...</td>\n",
       "      <td>A fake cryptocurrency firm, Miroskii, has list...</td>\n",
       "    </tr>\n",
       "    <tr>\n",
       "      <th>53496</th>\n",
       "      <td>China planning to build military base in Pakis...</td>\n",
       "      <td>China is planning to build its second overseas...</td>\n",
       "    </tr>\n",
       "    <tr>\n",
       "      <th>2669</th>\n",
       "      <td>Pak cyberstalker jailed for harassing 200 lady...</td>\n",
       "      <td>A cyberstalker in Pakistan has been jailed for...</td>\n",
       "    </tr>\n",
       "    <tr>\n",
       "      <th>91535</th>\n",
       "      <td>KKR wear black armbands to pay tribute to CRPF...</td>\n",
       "      <td>Kolkata Knight Riders' players wore black armb...</td>\n",
       "    </tr>\n",
       "    <tr>\n",
       "      <th>48303</th>\n",
       "      <td>You can't replicate someone like Madhuri Dixit...</td>\n",
       "      <td>Talking about recreating 'Ek Do Teen Char' son...</td>\n",
       "    </tr>\n",
       "    <tr>\n",
       "      <th>97452</th>\n",
       "      <td>Smith attains fifth highest batting rating in ...</td>\n",
       "      <td>Steve Smith has reached a career-high 941 rati...</td>\n",
       "    </tr>\n",
       "    <tr>\n",
       "      <th>26534</th>\n",
       "      <td>Can't say if Putin is friend or enemy: Trump</td>\n",
       "      <td>US President Donald Trump on Tuesday said that...</td>\n",
       "    </tr>\n",
       "    <tr>\n",
       "      <th>26106</th>\n",
       "      <td>Husband having affair with college student: BJ...</td>\n",
       "      <td>Jammu and Kashmir BJP MLA Gagan Bhagat's wife ...</td>\n",
       "    </tr>\n",
       "    <tr>\n",
       "      <th>79003</th>\n",
       "      <td>Dhinchak Pooja releases new song after copyrig...</td>\n",
       "      <td>YouTube personality Dhinchak Pooja has release...</td>\n",
       "    </tr>\n",
       "    <tr>\n",
       "      <th>66193</th>\n",
       "      <td>Rock thrown at Australian team bus in Guwahati...</td>\n",
       "      <td>A rock was thrown at the Australian team bus w...</td>\n",
       "    </tr>\n",
       "  </tbody>\n",
       "</table>\n",
       "</div>"
      ],
      "text/plain": [
       "                                               headlines  \\\n",
       "45169  Fake crypto firm lists Ryan Gosling as graphic...   \n",
       "53496  China planning to build military base in Pakis...   \n",
       "2669   Pak cyberstalker jailed for harassing 200 lady...   \n",
       "91535  KKR wear black armbands to pay tribute to CRPF...   \n",
       "48303  You can't replicate someone like Madhuri Dixit...   \n",
       "97452  Smith attains fifth highest batting rating in ...   \n",
       "26534       Can't say if Putin is friend or enemy: Trump   \n",
       "26106  Husband having affair with college student: BJ...   \n",
       "79003  Dhinchak Pooja releases new song after copyrig...   \n",
       "66193  Rock thrown at Australian team bus in Guwahati...   \n",
       "\n",
       "                                                    text  \n",
       "45169  A fake cryptocurrency firm, Miroskii, has list...  \n",
       "53496  China is planning to build its second overseas...  \n",
       "2669   A cyberstalker in Pakistan has been jailed for...  \n",
       "91535  Kolkata Knight Riders' players wore black armb...  \n",
       "48303  Talking about recreating 'Ek Do Teen Char' son...  \n",
       "97452  Steve Smith has reached a career-high 941 rati...  \n",
       "26534  US President Donald Trump on Tuesday said that...  \n",
       "26106  Jammu and Kashmir BJP MLA Gagan Bhagat's wife ...  \n",
       "79003  YouTube personality Dhinchak Pooja has release...  \n",
       "66193  A rock was thrown at the Australian team bus w...  "
      ]
     },
     "execution_count": 5,
     "metadata": {},
     "output_type": "execute_result"
    }
   ],
   "source": [
    "data.sample(10)"
   ]
  },
  {
   "cell_type": "markdown",
   "id": "e436e79a",
   "metadata": {},
   "source": [
    " 추상적 모델인 경우 두 개의 열 모두 사용 , 추출적 요약을 하는경우 오직 text 열만 사용\n",
    "\n",
    "\n",
    "## Step 2. 데이터 전처리하기 (추상적 요약)\n"
   ]
  },
  {
   "cell_type": "code",
   "execution_count": 6,
   "id": "cf214df4",
   "metadata": {},
   "outputs": [
    {
     "name": "stdout",
     "output_type": "stream",
     "text": [
      "Text 열에서 중복을 배제한 유일한 샘플의 수 : 98280\n",
      "Summary 열에서 중복을 배제한 유일한 샘플의 수 : 98360\n"
     ]
    }
   ],
   "source": [
    "##중복 샘플과 NULL 값이 존재하는 샘플 제거\n",
    "\n",
    "print('Text 열에서 중복을 배제한 유일한 샘플의 수 :', data['headlines'].nunique())\n",
    "print('Summary 열에서 중복을 배제한 유일한 샘플의 수 :', data['text'].nunique())"
   ]
  },
  {
   "cell_type": "code",
   "execution_count": 7,
   "id": "8bba1c24",
   "metadata": {},
   "outputs": [
    {
     "name": "stdout",
     "output_type": "stream",
     "text": [
      "전체 샘플수 : 98360\n"
     ]
    }
   ],
   "source": [
    "# inplace=True 를 설정하면 DataFrame 타입 값을 return 하지 않고 data 내부를 직접적으로 바꿉니다\n",
    "data.drop_duplicates(subset = ['text'], inplace=True)\n",
    "print('전체 샘플수 :', (len(data)))"
   ]
  },
  {
   "cell_type": "code",
   "execution_count": 8,
   "id": "07ff2a4b",
   "metadata": {},
   "outputs": [
    {
     "name": "stdout",
     "output_type": "stream",
     "text": [
      "headlines    0\n",
      "text         0\n",
      "dtype: int64\n"
     ]
    }
   ],
   "source": [
    "print(data.isnull().sum())"
   ]
  },
  {
   "cell_type": "code",
   "execution_count": 9,
   "id": "201000df",
   "metadata": {},
   "outputs": [
    {
     "name": "stdout",
     "output_type": "stream",
     "text": [
      "정규화 사전의 수:  120\n"
     ]
    }
   ],
   "source": [
    "## 텍스트 정규화와 불용어 제거\n",
    "contractions = {\"ain't\": \"is not\", \"aren't\": \"are not\",\"can't\": \"cannot\", \"'cause\": \"because\", \"could've\": \"could have\", \"couldn't\": \"could not\",\n",
    "                           \"didn't\": \"did not\",  \"doesn't\": \"does not\", \"don't\": \"do not\", \"hadn't\": \"had not\", \"hasn't\": \"has not\", \"haven't\": \"have not\",\n",
    "                           \"he'd\": \"he would\",\"he'll\": \"he will\", \"he's\": \"he is\", \"how'd\": \"how did\", \"how'd'y\": \"how do you\", \"how'll\": \"how will\", \"how's\": \"how is\",\n",
    "                           \"I'd\": \"I would\", \"I'd've\": \"I would have\", \"I'll\": \"I will\", \"I'll've\": \"I will have\",\"I'm\": \"I am\", \"I've\": \"I have\", \"i'd\": \"i would\",\n",
    "                           \"i'd've\": \"i would have\", \"i'll\": \"i will\",  \"i'll've\": \"i will have\",\"i'm\": \"i am\", \"i've\": \"i have\", \"isn't\": \"is not\", \"it'd\": \"it would\",\n",
    "                           \"it'd've\": \"it would have\", \"it'll\": \"it will\", \"it'll've\": \"it will have\",\"it's\": \"it is\", \"let's\": \"let us\", \"ma'am\": \"madam\",\n",
    "                           \"mayn't\": \"may not\", \"might've\": \"might have\",\"mightn't\": \"might not\",\"mightn't've\": \"might not have\", \"must've\": \"must have\",\n",
    "                           \"mustn't\": \"must not\", \"mustn't've\": \"must not have\", \"needn't\": \"need not\", \"needn't've\": \"need not have\",\"o'clock\": \"of the clock\",\n",
    "                           \"oughtn't\": \"ought not\", \"oughtn't've\": \"ought not have\", \"shan't\": \"shall not\", \"sha'n't\": \"shall not\", \"shan't've\": \"shall not have\",\n",
    "                           \"she'd\": \"she would\", \"she'd've\": \"she would have\", \"she'll\": \"she will\", \"she'll've\": \"she will have\", \"she's\": \"she is\",\n",
    "                           \"should've\": \"should have\", \"shouldn't\": \"should not\", \"shouldn't've\": \"should not have\", \"so've\": \"so have\",\"so's\": \"so as\",\n",
    "                           \"this's\": \"this is\",\"that'd\": \"that would\", \"that'd've\": \"that would have\", \"that's\": \"that is\", \"there'd\": \"there would\",\n",
    "                           \"there'd've\": \"there would have\", \"there's\": \"there is\", \"here's\": \"here is\",\"they'd\": \"they would\", \"they'd've\": \"they would have\",\n",
    "                           \"they'll\": \"they will\", \"they'll've\": \"they will have\", \"they're\": \"they are\", \"they've\": \"they have\", \"to've\": \"to have\",\n",
    "                           \"wasn't\": \"was not\", \"we'd\": \"we would\", \"we'd've\": \"we would have\", \"we'll\": \"we will\", \"we'll've\": \"we will have\", \"we're\": \"we are\",\n",
    "                           \"we've\": \"we have\", \"weren't\": \"were not\", \"what'll\": \"what will\", \"what'll've\": \"what will have\", \"what're\": \"what are\",\n",
    "                           \"what's\": \"what is\", \"what've\": \"what have\", \"when's\": \"when is\", \"when've\": \"when have\", \"where'd\": \"where did\", \"where's\": \"where is\",\n",
    "                           \"where've\": \"where have\", \"who'll\": \"who will\", \"who'll've\": \"who will have\", \"who's\": \"who is\", \"who've\": \"who have\",\n",
    "                           \"why's\": \"why is\", \"why've\": \"why have\", \"will've\": \"will have\", \"won't\": \"will not\", \"won't've\": \"will not have\",\n",
    "                           \"would've\": \"would have\", \"wouldn't\": \"would not\", \"wouldn't've\": \"would not have\", \"y'all\": \"you all\",\n",
    "                           \"y'all'd\": \"you all would\",\"y'all'd've\": \"you all would have\",\"y'all're\": \"you all are\",\"y'all've\": \"you all have\",\n",
    "                           \"you'd\": \"you would\", \"you'd've\": \"you would have\", \"you'll\": \"you will\", \"you'll've\": \"you will have\",\n",
    "                           \"you're\": \"you are\", \"you've\": \"you have\"}\n",
    "\n",
    "print(\"정규화 사전의 수: \", len(contractions))"
   ]
  },
  {
   "cell_type": "code",
   "execution_count": 10,
   "id": "df37d6f0",
   "metadata": {},
   "outputs": [
    {
     "name": "stdout",
     "output_type": "stream",
     "text": [
      "불용어 개수 : 179\n",
      "['i', 'me', 'my', 'myself', 'we', 'our', 'ours', 'ourselves', 'you', \"you're\", \"you've\", \"you'll\", \"you'd\", 'your', 'yours', 'yourself', 'yourselves', 'he', 'him', 'his', 'himself', 'she', \"she's\", 'her', 'hers', 'herself', 'it', \"it's\", 'its', 'itself', 'they', 'them', 'their', 'theirs', 'themselves', 'what', 'which', 'who', 'whom', 'this', 'that', \"that'll\", 'these', 'those', 'am', 'is', 'are', 'was', 'were', 'be', 'been', 'being', 'have', 'has', 'had', 'having', 'do', 'does', 'did', 'doing', 'a', 'an', 'the', 'and', 'but', 'if', 'or', 'because', 'as', 'until', 'while', 'of', 'at', 'by', 'for', 'with', 'about', 'against', 'between', 'into', 'through', 'during', 'before', 'after', 'above', 'below', 'to', 'from', 'up', 'down', 'in', 'out', 'on', 'off', 'over', 'under', 'again', 'further', 'then', 'once', 'here', 'there', 'when', 'where', 'why', 'how', 'all', 'any', 'both', 'each', 'few', 'more', 'most', 'other', 'some', 'such', 'no', 'nor', 'not', 'only', 'own', 'same', 'so', 'than', 'too', 'very', 's', 't', 'can', 'will', 'just', 'don', \"don't\", 'should', \"should've\", 'now', 'd', 'll', 'm', 'o', 're', 've', 'y', 'ain', 'aren', \"aren't\", 'couldn', \"couldn't\", 'didn', \"didn't\", 'doesn', \"doesn't\", 'hadn', \"hadn't\", 'hasn', \"hasn't\", 'haven', \"haven't\", 'isn', \"isn't\", 'ma', 'mightn', \"mightn't\", 'mustn', \"mustn't\", 'needn', \"needn't\", 'shan', \"shan't\", 'shouldn', \"shouldn't\", 'wasn', \"wasn't\", 'weren', \"weren't\", 'won', \"won't\", 'wouldn', \"wouldn't\"]\n"
     ]
    }
   ],
   "source": [
    "print('불용어 개수 :', len(stopwords.words('english') ))\n",
    "print(stopwords.words('english'))"
   ]
  },
  {
   "cell_type": "code",
   "execution_count": 11,
   "id": "ad2b85dc",
   "metadata": {},
   "outputs": [],
   "source": [
    "# 데이터 전처리 함수\n",
    "def preprocess_sentence(sentence, remove_stopwords=True):\n",
    "    sentence = sentence.lower() # 텍스트 소문자화\n",
    "    sentence = BeautifulSoup(sentence, \"lxml\").text # <br />, <a href = ...> 등의 html 태그 제거\n",
    "    sentence = re.sub(r'\\([^)]*\\)', '', sentence) # 괄호로 닫힌 문자열 (...) 제거 Ex) my husband (and myself!) for => my husband for\n",
    "    sentence = re.sub('\"','', sentence) # 쌍따옴표 \" 제거\n",
    "    sentence = ' '.join([contractions[t] if t in contractions else t for t in sentence.split(\" \")]) # 약어 정규화\n",
    "    sentence = re.sub(r\"'s\\b\",\"\", sentence) # 소유격 제거. Ex) roland's -> roland\n",
    "    sentence = re.sub(\"[^a-zA-Z]\", \" \", sentence) # 영어 외 문자(숫자, 특수문자 등) 공백으로 변환\n",
    "    sentence = re.sub('[m]{2,}', 'mm', sentence) # m이 3개 이상이면 2개로 변경. Ex) ummmmmmm yeah -> umm yeah\n",
    "    \n",
    "    # 불용어 제거 (Text)\n",
    "    if remove_stopwords:\n",
    "        tokens = ' '.join(word for word in sentence.split() if not word in stopwords.words('english') if len(word) > 1)\n",
    "    # 불용어 미제거 (Summary)\n",
    "    else:\n",
    "        tokens = ' '.join(word for word in sentence.split() if len(word) > 1)\n",
    "    return tokens"
   ]
  },
  {
   "cell_type": "code",
   "execution_count": 12,
   "id": "2c52a27a",
   "metadata": {},
   "outputs": [],
   "source": [
    "# 전체 Text 데이터에 대한 전처리 : 10분 이상 시간이 걸릴 수 있습니다. \n",
    "clean_text = []\n",
    "\n",
    "# [[YOUR CODE]]\n",
    "for sentence in data['text']:\n",
    "    clean_text.append(preprocess_sentence(sentence))"
   ]
  },
  {
   "cell_type": "code",
   "execution_count": 13,
   "id": "63ceff23",
   "metadata": {},
   "outputs": [
    {
     "name": "stdout",
     "output_type": "stream",
     "text": [
      "Text 전처리 후 결과:  ['saurav kant alumnus upgrad iiit pg program machine learning artificial intelligence sr systems engineer infosys almost years work experience program upgrad degree career support helped transition data scientist tech mahindra salary hike upgrad online power learning powered lakh careers', 'kunal shah credit card bill payment platform cred gave users chance win free food swiggy one year pranav kaushik delhi techie bagged reward spending cred coins users get one cred coin per rupee bill paid used avail rewards brands like ixigo bookmyshow ubereats cult fit', 'new zealand defeated india wickets fourth odi hamilton thursday win first match five match odi series india lost international match rohit sharma captaincy consecutive victories dating back march match witnessed india getting seventh lowest total odi cricket history', 'aegon life iterm insurance plan customers enjoy tax benefits premiums paid save taxes plan provides life cover age years also customers options insure critical illnesses disability accidental death benefit rider life cover age years', 'speaking sexual harassment allegations rajkumar hirani sonam kapoor said known hirani many years true metoo movement get derailed metoo movement always believe woman case need reserve judgment added hirani accused assistant worked sanju']\n"
     ]
    }
   ],
   "source": [
    "# 전처리 후 출력\n",
    "print(\"Text 전처리 후 결과: \", clean_text[:5])"
   ]
  },
  {
   "cell_type": "code",
   "execution_count": 14,
   "id": "6fa34cc8",
   "metadata": {},
   "outputs": [],
   "source": [
    "# 전체 headlines 데이터에 대한 전처리 : 5분 이상 시간이 걸릴 수 있습니다. \n",
    "clean_headlines = []\n",
    "\n",
    "# [[YOUR CODE]]\n",
    "for sentence in data['headlines']:\n",
    "    clean_headlines.append(preprocess_sentence(sentence))"
   ]
  },
  {
   "cell_type": "code",
   "execution_count": 15,
   "id": "be124e27",
   "metadata": {},
   "outputs": [
    {
     "name": "stdout",
     "output_type": "stream",
     "text": [
      "Summary 전처리 후 결과:  ['upgrad learner switches career ml al salary hike', 'delhi techie wins free food swiggy one year cred', 'new zealand end rohit sharma led india match winning streak', 'aegon life iterm insurance plan helps customers save tax', 'known hirani yrs metoo claims true sonam']\n"
     ]
    }
   ],
   "source": [
    "print(\"Summary 전처리 후 결과: \", clean_headlines[:5])"
   ]
  },
  {
   "cell_type": "code",
   "execution_count": 16,
   "id": "2145dd90",
   "metadata": {},
   "outputs": [],
   "source": [
    "data['text'] = clean_text\n",
    "data['headlines'] = clean_headlines\n",
    "\n",
    "# 빈 값을 Null 값으로 변환\n",
    "data.replace('', np.nan, inplace=True)"
   ]
  },
  {
   "cell_type": "code",
   "execution_count": 17,
   "id": "b0a6b577",
   "metadata": {},
   "outputs": [
    {
     "data": {
      "text/plain": [
       "headlines    0\n",
       "text         0\n",
       "dtype: int64"
      ]
     },
     "execution_count": 17,
     "metadata": {},
     "output_type": "execute_result"
    }
   ],
   "source": [
    "data.isnull().sum()"
   ]
  },
  {
   "cell_type": "code",
   "execution_count": 18,
   "id": "128bb324",
   "metadata": {},
   "outputs": [
    {
     "name": "stdout",
     "output_type": "stream",
     "text": [
      "전체 샘플수 : 98360\n"
     ]
    }
   ],
   "source": [
    "print('전체 샘플수 :', (len(data)))"
   ]
  },
  {
   "cell_type": "code",
   "execution_count": 19,
   "id": "0bb8541a",
   "metadata": {},
   "outputs": [
    {
     "name": "stdout",
     "output_type": "stream",
     "text": [
      "텍스트의 최소 길이 : 1\n",
      "텍스트의 최대 길이 : 60\n",
      "텍스트의 평균 길이 : 35.09968483123221\n",
      "요약의 최소 길이 : 1\n",
      "요약의 최대 길이 : 13\n",
      "요약의 평균 길이 : 7.136183407889386\n"
     ]
    },
    {
     "data": {
      "image/png": "[encoded data removed]",
      "text/plain": [
       "<Figure size 432x288 with 2 Axes>"
      ]
     },
     "metadata": {
      "needs_background": "light"
     },
     "output_type": "display_data"
    },
    {
     "data": {
      "image/png": "[encoded data removed]",
      "text/plain": [
       "<Figure size 432x288 with 1 Axes>"
      ]
     },
     "metadata": {
      "needs_background": "light"
     },
     "output_type": "display_data"
    },
    {
     "data": {
      "image/png": "[encoded data removed]",
      "text/plain": [
       "<Figure size 432x288 with 1 Axes>"
      ]
     },
     "metadata": {
      "needs_background": "light"
     },
     "output_type": "display_data"
    }
   ],
   "source": [
    "text_len = [len(s.split()) for s in data['text']]\n",
    "headlines_len = [len(s.split()) for s in data['headlines']]\n",
    "\n",
    "print('텍스트의 최소 길이 : {}'.format(np.min(text_len)))\n",
    "print('텍스트의 최대 길이 : {}'.format(np.max(text_len)))\n",
    "print('텍스트의 평균 길이 : {}'.format(np.mean(text_len)))\n",
    "print('요약의 최소 길이 : {}'.format(np.min(headlines_len)))\n",
    "print('요약의 최대 길이 : {}'.format(np.max(headlines_len)))\n",
    "print('요약의 평균 길이 : {}'.format(np.mean(headlines_len)))\n",
    "\n",
    "plt.subplot(1,2,1)\n",
    "plt.boxplot(text_len)\n",
    "plt.title('text')\n",
    "plt.subplot(1,2,2)\n",
    "plt.boxplot(headlines_len)\n",
    "plt.title('headlines_len')\n",
    "plt.tight_layout()\n",
    "plt.show()\n",
    "\n",
    "plt.title('text')\n",
    "plt.hist(text_len, bins = 40)\n",
    "plt.xlabel('length of samples')\n",
    "plt.ylabel('number of samples')\n",
    "plt.show()\n",
    "\n",
    "plt.title('headlines_len')\n",
    "plt.hist(headlines_len, bins = 40)\n",
    "plt.xlabel('length of samples')\n",
    "plt.ylabel('number of samples')\n",
    "plt.show()"
   ]
  },
  {
   "cell_type": "code",
   "execution_count": 20,
   "id": "9fe792fd",
   "metadata": {},
   "outputs": [],
   "source": [
    "text_max_len = 40\n",
    "headlines_max_len = 8"
   ]
  },
  {
   "cell_type": "code",
   "execution_count": 21,
   "id": "de19c08f",
   "metadata": {},
   "outputs": [],
   "source": [
    "def below_threshold_len(max_len, nested_list):\n",
    "    cnt = 0\n",
    "    for s in nested_list:\n",
    "        if(len(s.split()) <= max_len):\n",
    "            cnt = cnt + 1 \n",
    "    print('전체 샘플 중 길이가 %s 이하인 샘플의 비율: %s'%(max_len, (cnt / len(nested_list))))\n",
    "      "
   ]
  },
  {
   "cell_type": "code",
   "execution_count": 22,
   "id": "36fdd075",
   "metadata": {},
   "outputs": [
    {
     "name": "stdout",
     "output_type": "stream",
     "text": [
      "전체 샘플 중 길이가 40 이하인 샘플의 비율: 0.9238714924766165\n",
      "전체 샘플 중 길이가 8 이하인 샘플의 비율: 0.8925782838552258\n"
     ]
    }
   ],
   "source": [
    "below_threshold_len(text_max_len, data['text'])\n",
    "below_threshold_len(headlines_max_len,  data['headlines'])\n",
    "\n",
    "## 샘플 비율이 높은게 좋을까 ?? -> 실험 요소 중 하나  데이터 마다 특성이 달라서 해봐야 알거 같다? "
   ]
  },
  {
   "cell_type": "code",
   "execution_count": 30,
   "id": "6a9e1616",
   "metadata": {},
   "outputs": [
    {
     "name": "stdout",
     "output_type": "stream",
     "text": [
      "전체 샘플수 : 56003\n"
     ]
    }
   ],
   "source": [
    "data = data[\n",
    "    data.apply(lambda x: len(x['text'].split()) < text_max_len and len(x['headlines'].split()) < headlines_max_len, axis=1)\n",
    "]\n",
    "print('전체 샘플수 :', (len(data))) "
   ]
  },
  {
   "cell_type": "code",
   "execution_count": 31,
   "id": "60645c17",
   "metadata": {},
   "outputs": [
    {
     "data": {
      "text/html": [
       "<div>\n",
       "<style scoped>\n",
       "    .dataframe tbody tr th:only-of-type {\n",
       "        vertical-align: middle;\n",
       "    }\n",
       "\n",
       "    .dataframe tbody tr th {\n",
       "        vertical-align: top;\n",
       "    }\n",
       "\n",
       "    .dataframe thead th {\n",
       "        text-align: right;\n",
       "    }\n",
       "</style>\n",
       "<table border=\"1\" class=\"dataframe\">\n",
       "  <thead>\n",
       "    <tr style=\"text-align: right;\">\n",
       "      <th></th>\n",
       "      <th>headlines</th>\n",
       "      <th>text</th>\n",
       "      <th>decoder_input</th>\n",
       "      <th>decoder_target</th>\n",
       "    </tr>\n",
       "  </thead>\n",
       "  <tbody>\n",
       "    <tr>\n",
       "      <th>4</th>\n",
       "      <td>known hirani yrs metoo claims true sonam</td>\n",
       "      <td>speaking sexual harassment allegations rajkuma...</td>\n",
       "      <td>sostoken known hirani yrs metoo claims true sonam</td>\n",
       "      <td>known hirani yrs metoo claims true sonam eostoken</td>\n",
       "    </tr>\n",
       "    <tr>\n",
       "      <th>6</th>\n",
       "      <td>india get lowest odi total new zealand</td>\n",
       "      <td>india recorded lowest odi total new zealand ge...</td>\n",
       "      <td>sostoken india get lowest odi total new zealand</td>\n",
       "      <td>india get lowest odi total new zealand eostoken</td>\n",
       "    </tr>\n",
       "    <tr>\n",
       "      <th>10</th>\n",
       "      <td>cousins fed human excreta friendship boys</td>\n",
       "      <td>two minor cousins uttar pradesh gorakhpur alle...</td>\n",
       "      <td>sostoken cousins fed human excreta friendship ...</td>\n",
       "      <td>cousins fed human excreta friendship boys eost...</td>\n",
       "    </tr>\n",
       "    <tr>\n",
       "      <th>12</th>\n",
       "      <td>ram krishna smoke ramdev sadhus kumbh</td>\n",
       "      <td>urging saints seers kumbh mela quit smoking yo...</td>\n",
       "      <td>sostoken ram krishna smoke ramdev sadhus kumbh</td>\n",
       "      <td>ram krishna smoke ramdev sadhus kumbh eostoken</td>\n",
       "    </tr>\n",
       "    <tr>\n",
       "      <th>14</th>\n",
       "      <td>cried bidaai felt peer pressure isha ambani</td>\n",
       "      <td>reliance industries chairman mukesh ambani dau...</td>\n",
       "      <td>sostoken cried bidaai felt peer pressure isha ...</td>\n",
       "      <td>cried bidaai felt peer pressure isha ambani eo...</td>\n",
       "    </tr>\n",
       "  </tbody>\n",
       "</table>\n",
       "</div>"
      ],
      "text/plain": [
       "                                      headlines  \\\n",
       "4      known hirani yrs metoo claims true sonam   \n",
       "6        india get lowest odi total new zealand   \n",
       "10    cousins fed human excreta friendship boys   \n",
       "12        ram krishna smoke ramdev sadhus kumbh   \n",
       "14  cried bidaai felt peer pressure isha ambani   \n",
       "\n",
       "                                                 text  \\\n",
       "4   speaking sexual harassment allegations rajkuma...   \n",
       "6   india recorded lowest odi total new zealand ge...   \n",
       "10  two minor cousins uttar pradesh gorakhpur alle...   \n",
       "12  urging saints seers kumbh mela quit smoking yo...   \n",
       "14  reliance industries chairman mukesh ambani dau...   \n",
       "\n",
       "                                        decoder_input  \\\n",
       "4   sostoken known hirani yrs metoo claims true sonam   \n",
       "6     sostoken india get lowest odi total new zealand   \n",
       "10  sostoken cousins fed human excreta friendship ...   \n",
       "12     sostoken ram krishna smoke ramdev sadhus kumbh   \n",
       "14  sostoken cried bidaai felt peer pressure isha ...   \n",
       "\n",
       "                                       decoder_target  \n",
       "4   known hirani yrs metoo claims true sonam eostoken  \n",
       "6     india get lowest odi total new zealand eostoken  \n",
       "10  cousins fed human excreta friendship boys eost...  \n",
       "12     ram krishna smoke ramdev sadhus kumbh eostoken  \n",
       "14  cried bidaai felt peer pressure isha ambani eo...  "
      ]
     },
     "execution_count": 31,
     "metadata": {},
     "output_type": "execute_result"
    }
   ],
   "source": [
    "# 요약 데이터에는 시작 토큰과 종료 토큰을 추가한다.\n",
    "data['decoder_input'] = data['headlines'].apply(lambda x : 'sostoken '+ x)\n",
    "data['decoder_target'] = data['headlines'].apply(lambda x : x + ' eostoken')\n",
    "data.head()"
   ]
  },
  {
   "cell_type": "code",
   "execution_count": 32,
   "id": "406d4b76",
   "metadata": {},
   "outputs": [],
   "source": [
    "encoder_input = np.array(data['text']) # 인코더의 입력\n",
    "decoder_input = np.array(data['decoder_input']) # 디코더의 입력\n",
    "decoder_target = np.array(data['decoder_target']) # 디코더의 레이블"
   ]
  },
  {
   "cell_type": "code",
   "execution_count": 33,
   "id": "eda12e14",
   "metadata": {},
   "outputs": [],
   "source": [
    "indices = np.arange(encoder_input.shape[0])\n",
    "np.random.shuffle(indices)"
   ]
  },
  {
   "cell_type": "code",
   "execution_count": 34,
   "id": "73aaf417",
   "metadata": {},
   "outputs": [],
   "source": [
    "encoder_input = encoder_input[indices]\n",
    "decoder_input = decoder_input[indices]\n",
    "decoder_target = decoder_target[indices]"
   ]
  },
  {
   "cell_type": "code",
   "execution_count": 28,
   "id": "9bb8ecf5",
   "metadata": {},
   "outputs": [
    {
     "name": "stdout",
     "output_type": "stream",
     "text": [
      "테스트 데이터의 수 : 19672\n"
     ]
    }
   ],
   "source": [
    "n_of_val = int(len(encoder_input)*0.2)\n",
    "print('테스트 데이터의 수 :', n_of_val)"
   ]
  },
  {
   "cell_type": "code",
   "execution_count": 35,
   "id": "80ca3298",
   "metadata": {},
   "outputs": [
    {
     "name": "stdout",
     "output_type": "stream",
     "text": [
      "훈련 데이터의 개수 : 36331\n",
      "훈련 레이블의 개수 : 36331\n",
      "테스트 데이터의 개수 : 19672\n",
      "테스트 레이블의 개수 : 19672\n"
     ]
    }
   ],
   "source": [
    "encoder_input_train = encoder_input[:-n_of_val]\n",
    "decoder_input_train = decoder_input[:-n_of_val]\n",
    "decoder_target_train = decoder_target[:-n_of_val]\n",
    "\n",
    "encoder_input_test = encoder_input[-n_of_val:]\n",
    "decoder_input_test = decoder_input[-n_of_val:]\n",
    "decoder_target_test = decoder_target[-n_of_val:]\n",
    "\n",
    "print('훈련 데이터의 개수 :', len(encoder_input_train))\n",
    "print('훈련 레이블의 개수 :', len(decoder_input_train))\n",
    "print('테스트 데이터의 개수 :', len(encoder_input_test))\n",
    "print('테스트 레이블의 개수 :', len(decoder_input_test))"
   ]
  },
  {
   "cell_type": "code",
   "execution_count": 37,
   "id": "7da05e86",
   "metadata": {},
   "outputs": [],
   "source": [
    "src_tokenizer = Tokenizer() # 토크나이저 정의\n",
    "src_tokenizer.fit_on_texts(encoder_input_train) # 입력된 데이터로부터 단어 집합 생성"
   ]
  },
  {
   "cell_type": "code",
   "execution_count": 38,
   "id": "81fe41f5",
   "metadata": {},
   "outputs": [
    {
     "name": "stdout",
     "output_type": "stream",
     "text": [
      "단어 집합(vocabulary)의 크기 : 48885\n",
      "등장 빈도가 6번 이하인 희귀 단어의 수: 34045\n",
      "단어 집합에서 희귀 단어를 제외시킬 경우의 단어 집합의 크기 14840\n",
      "단어 집합에서 희귀 단어의 비율: 69.6430397872558\n",
      "전체 등장 빈도에서 희귀 단어 등장 빈도 비율: 5.691788544722764\n"
     ]
    }
   ],
   "source": [
    "threshold = 7\n",
    "total_cnt = len(src_tokenizer.word_index) # 단어의 수\n",
    "rare_cnt = 0 # 등장 빈도수가 threshold보다 작은 단어의 개수를 카운트\n",
    "total_freq = 0 # 훈련 데이터의 전체 단어 빈도수 총 합\n",
    "rare_freq = 0 # 등장 빈도수가 threshold보다 작은 단어의 등장 빈도수의 총 합\n",
    "\n",
    "# 단어와 빈도수의 쌍(pair)을 key와 value로 받는다.\n",
    "for key, value in src_tokenizer.word_counts.items():\n",
    "    total_freq = total_freq + value\n",
    "\n",
    "    # 단어의 등장 빈도수가 threshold보다 작으면\n",
    "    if(value < threshold):\n",
    "        rare_cnt = rare_cnt + 1\n",
    "        rare_freq = rare_freq + value\n",
    "\n",
    "print('단어 집합(vocabulary)의 크기 :', total_cnt)\n",
    "print('등장 빈도가 %s번 이하인 희귀 단어의 수: %s'%(threshold - 1, rare_cnt))\n",
    "print('단어 집합에서 희귀 단어를 제외시킬 경우의 단어 집합의 크기 %s'%(total_cnt - rare_cnt))\n",
    "print(\"단어 집합에서 희귀 단어의 비율:\", (rare_cnt / total_cnt)*100)\n",
    "print(\"전체 등장 빈도에서 희귀 단어 등장 빈도 비율:\", (rare_freq / total_freq)*100)"
   ]
  },
  {
   "cell_type": "code",
   "execution_count": 39,
   "id": "5d1bb1e1",
   "metadata": {},
   "outputs": [],
   "source": [
    "src_vocab = 8000\n",
    "src_tokenizer = Tokenizer(num_words=src_vocab) # 단어 집합의 크기를 8,000으로 제한\n",
    "src_tokenizer.fit_on_texts(encoder_input_train) # 단어 집합 재생성"
   ]
  },
  {
   "cell_type": "code",
   "execution_count": 40,
   "id": "5d4927d8",
   "metadata": {},
   "outputs": [
    {
     "name": "stdout",
     "output_type": "stream",
     "text": [
      "[[2989, 3859, 6230, 7311, 58, 489, 4853, 481, 5029, 230, 115, 596, 2617, 1716, 1, 93, 1109, 116, 2030, 2061, 1396, 472, 535, 3646, 373, 506, 72, 1109, 117, 266, 1663, 1716, 2], [4039, 3606, 230, 5030, 890, 6231, 2280, 5336, 2248, 3918, 64, 448, 570, 423, 421, 448, 697, 6231, 570, 5447, 1876, 3290, 5, 96, 2910, 58, 1958, 1149, 6907, 7105, 358, 5577, 2868], [2148, 52, 4673, 678, 7312, 1405, 232, 139, 2485, 1252, 1729, 88, 2148, 1374, 1534, 7534, 7312, 1405, 773, 139, 1737, 3216, 453, 352, 2550, 3247, 924, 418, 1542, 1432, 671, 282]]\n"
     ]
    }
   ],
   "source": [
    "# 텍스트 시퀀스를 정수 시퀀스로 변환\n",
    "encoder_input_train = src_tokenizer.texts_to_sequences(encoder_input_train) \n",
    "encoder_input_test = src_tokenizer.texts_to_sequences(encoder_input_test)\n",
    "\n",
    "# 잘 진행되었는지 샘플 출력\n",
    "print(encoder_input_train[:3])"
   ]
  },
  {
   "cell_type": "code",
   "execution_count": 41,
   "id": "121bc82c",
   "metadata": {},
   "outputs": [],
   "source": [
    "tar_tokenizer = Tokenizer()\n",
    "tar_tokenizer.fit_on_texts(decoder_input_train)"
   ]
  },
  {
   "cell_type": "code",
   "execution_count": 42,
   "id": "5a0e0f93",
   "metadata": {},
   "outputs": [
    {
     "name": "stdout",
     "output_type": "stream",
     "text": [
      "단어 집합(vocabulary)의 크기 : 21958\n",
      "등장 빈도가 5번 이하인 희귀 단어의 수: 15491\n",
      "단어 집합에서 희귀 단어를 제외시킬 경우의 단어 집합의 크기 6467\n",
      "단어 집합에서 희귀 단어의 비율: 70.54831951908189\n",
      "전체 등장 빈도에서 희귀 단어 등장 빈도 비율: 10.949165650376274\n"
     ]
    }
   ],
   "source": [
    "threshold = 6\n",
    "total_cnt = len(tar_tokenizer.word_index) # 단어의 수\n",
    "rare_cnt = 0 # 등장 빈도수가 threshold보다 작은 단어의 개수를 카운트\n",
    "total_freq = 0 # 훈련 데이터의 전체 단어 빈도수 총 합\n",
    "rare_freq = 0 # 등장 빈도수가 threshold보다 작은 단어의 등장 빈도수의 총 합\n",
    "\n",
    "# 단어와 빈도수의 쌍(pair)을 key와 value로 받는다.\n",
    "for key, value in tar_tokenizer.word_counts.items():\n",
    "    total_freq = total_freq + value\n",
    "\n",
    "    # 단어의 등장 빈도수가 threshold보다 작으면\n",
    "    if(value < threshold):\n",
    "        rare_cnt = rare_cnt + 1\n",
    "        rare_freq = rare_freq + value\n",
    "\n",
    "print('단어 집합(vocabulary)의 크기 :', total_cnt)\n",
    "print('등장 빈도가 %s번 이하인 희귀 단어의 수: %s'%(threshold - 1, rare_cnt))\n",
    "print('단어 집합에서 희귀 단어를 제외시킬 경우의 단어 집합의 크기 %s'%(total_cnt - rare_cnt))\n",
    "print(\"단어 집합에서 희귀 단어의 비율:\", (rare_cnt / total_cnt)*100)\n",
    "print(\"전체 등장 빈도에서 희귀 단어 등장 빈도 비율:\", (rare_freq / total_freq)*100)"
   ]
  },
  {
   "cell_type": "code",
   "execution_count": 43,
   "id": "6c9a59fb",
   "metadata": {},
   "outputs": [
    {
     "name": "stdout",
     "output_type": "stream",
     "text": [
      "input\n",
      "input  [[1, 1632, 681, 80], [1, 80, 94, 612, 151], [1, 613, 1328, 908, 1281], [1, 71, 293, 294, 4, 221, 938, 9], [1, 76, 1244, 452, 152]]\n",
      "target\n",
      "decoder  [[1632, 681, 80, 2], [80, 94, 612, 151, 2], [613, 1328, 908, 1281, 2], [71, 293, 294, 4, 221, 938, 9, 2], [76, 1244, 452, 152, 2]]\n"
     ]
    }
   ],
   "source": [
    "tar_vocab = 2000\n",
    "tar_tokenizer = Tokenizer(num_words=tar_vocab) \n",
    "tar_tokenizer.fit_on_texts(decoder_input_train)\n",
    "tar_tokenizer.fit_on_texts(decoder_target_train)\n",
    "\n",
    "# 텍스트 시퀀스를 정수 시퀀스로 변환\n",
    "decoder_input_train = tar_tokenizer.texts_to_sequences(decoder_input_train) \n",
    "decoder_target_train = tar_tokenizer.texts_to_sequences(decoder_target_train)\n",
    "decoder_input_test = tar_tokenizer.texts_to_sequences(decoder_input_test)\n",
    "decoder_target_test = tar_tokenizer.texts_to_sequences(decoder_target_test)\n",
    "\n",
    "# 잘 변환되었는지 확인\n",
    "print('input')\n",
    "print('input ',decoder_input_train[:5])\n",
    "print('target')\n",
    "print('decoder ',decoder_target_train[:5])"
   ]
  },
  {
   "cell_type": "code",
   "execution_count": 44,
   "id": "2db4de41",
   "metadata": {},
   "outputs": [
    {
     "name": "stdout",
     "output_type": "stream",
     "text": [
      "삭제할 훈련 데이터의 개수 : 149\n",
      "삭제할 테스트 데이터의 개수 : 80\n",
      "훈련 데이터의 개수 : 36182\n",
      "훈련 레이블의 개수 : 36182\n",
      "테스트 데이터의 개수 : 19592\n",
      "테스트 레이블의 개수 : 19592\n"
     ]
    }
   ],
   "source": [
    "drop_train = [index for index, sentence in enumerate(decoder_input_train) if len(sentence) == 1]\n",
    "drop_test = [index for index, sentence in enumerate(decoder_input_test) if len(sentence) == 1]\n",
    "\n",
    "print('삭제할 훈련 데이터의 개수 :', len(drop_train))\n",
    "print('삭제할 테스트 데이터의 개수 :', len(drop_test))\n",
    "\n",
    "encoder_input_train = [sentence for index, sentence in enumerate(encoder_input_train) if index not in drop_train]\n",
    "decoder_input_train = [sentence for index, sentence in enumerate(decoder_input_train) if index not in drop_train]\n",
    "decoder_target_train = [sentence for index, sentence in enumerate(decoder_target_train) if index not in drop_train]\n",
    "\n",
    "encoder_input_test = [sentence for index, sentence in enumerate(encoder_input_test) if index not in drop_test]\n",
    "decoder_input_test = [sentence for index, sentence in enumerate(decoder_input_test) if index not in drop_test]\n",
    "decoder_target_test = [sentence for index, sentence in enumerate(decoder_target_test) if index not in drop_test]\n",
    "\n",
    "print('훈련 데이터의 개수 :', len(encoder_input_train))\n",
    "print('훈련 레이블의 개수 :', len(decoder_input_train))\n",
    "print('테스트 데이터의 개수 :', len(encoder_input_test))\n",
    "print('테스트 레이블의 개수 :', len(decoder_input_test))"
   ]
  },
  {
   "cell_type": "code",
   "execution_count": 46,
   "id": "4c677a92",
   "metadata": {},
   "outputs": [],
   "source": [
    "## padding \n",
    "encoder_input_train = pad_sequences(encoder_input_train, maxlen=text_max_len, padding='pre')\n",
    "encoder_input_test = pad_sequences(encoder_input_test, maxlen=text_max_len, padding='pre')\n",
    "\n",
    "decoder_input_train = pad_sequences(decoder_input_train, maxlen=headlines_max_len, padding='pre')\n",
    "decoder_target_train = pad_sequences(decoder_target_train, maxlen=headlines_max_len, padding='pre')\n",
    "decoder_input_test = pad_sequences(decoder_input_test, maxlen=headlines_max_len, padding='pre')\n",
    "decoder_target_test = pad_sequences(decoder_target_test, maxlen=headlines_max_len, padding='pre')"
   ]
  },
  {
   "cell_type": "markdown",
   "id": "98316bbe",
   "metadata": {},
   "source": [
    "## Model 설계"
   ]
  },
  {
   "cell_type": "code",
   "execution_count": 47,
   "id": "80a3eb50",
   "metadata": {},
   "outputs": [],
   "source": [
    "from tensorflow.keras.layers import Input, LSTM, Embedding, Dense, Concatenate, TimeDistributed\n",
    "from tensorflow.keras.models import Model\n",
    "from tensorflow.keras.callbacks import EarlyStopping, ModelCheckpoint"
   ]
  },
  {
   "cell_type": "code",
   "execution_count": 48,
   "id": "f477aaf0",
   "metadata": {},
   "outputs": [],
   "source": [
    "# 인코더 설계 시작\n",
    "embedding_dim = 128\n",
    "hidden_size = 256\n",
    "\n",
    "# 인코더\n",
    "encoder_inputs = Input(shape=(text_max_len,))\n",
    "\n",
    "# 인코더의 임베딩 층\n",
    "enc_emb = Embedding(src_vocab, embedding_dim)(encoder_inputs)\n",
    "\n",
    "# 인코더의 LSTM 1\n",
    "# encoder_lstm1 = LSTM(hidden_size, return_sequences=True, return_state=True ,dropout = 0.4, recurrent_dropout = 0.4)\n",
    "encoder_lstm1 = LSTM(hidden_size, return_sequences=True, return_state=True ,dropout = 0.4)\n",
    "encoder_output1, state_h1, state_c1 = encoder_lstm1(enc_emb)\n",
    "\n",
    "## encoder LSTM 2\n",
    "encoder_lstm2 = LSTM(hidden_size, return_sequences=True, return_state= True, dropout = 0.4 )\n",
    "encoder_output2, state_h2, state_c2 = encoder_lstm2(encoder_output1)\n",
    "\n",
    "## encoder LSTM 3\n",
    "encoder_lstm3 = LSTM(hidden_size, return_sequences=True, return_state = True, dropout = 0.4)\n",
    "encoder_outputs, state_h, state_c = encoder_lstm3(encoder_output2)"
   ]
  },
  {
   "cell_type": "code",
   "execution_count": 50,
   "id": "bbc420cd",
   "metadata": {},
   "outputs": [],
   "source": [
    "# 디코더 설계\n",
    "decoder_inputs = Input(shape=(None,))\n",
    "\n",
    "# 디코더의 임베딩 층\n",
    "dec_emb_layer = Embedding(tar_vocab, embedding_dim)\n",
    "dec_emb = dec_emb_layer(decoder_inputs)\n",
    "\n",
    "# 디코더의 LSTM\n",
    "decoder_lstm = LSTM(hidden_size, return_sequences=True, return_state=True, dropout=0.4)\n",
    "decoder_outputs, _, _ = decoder_lstm(dec_emb, initial_state=[state_h, state_c])"
   ]
  },
  {
   "cell_type": "code",
   "execution_count": 51,
   "id": "c503e7ab",
   "metadata": {},
   "outputs": [
    {
     "name": "stdout",
     "output_type": "stream",
     "text": [
      "Model: \"model\"\n",
      "__________________________________________________________________________________________________\n",
      "Layer (type)                    Output Shape         Param #     Connected to                     \n",
      "==================================================================================================\n",
      "input_1 (InputLayer)            [(None, 40)]         0                                            \n",
      "__________________________________________________________________________________________________\n",
      "embedding (Embedding)           (None, 40, 128)      1024000     input_1[0][0]                    \n",
      "__________________________________________________________________________________________________\n",
      "lstm (LSTM)                     [(None, 40, 256), (N 394240      embedding[0][0]                  \n",
      "__________________________________________________________________________________________________\n",
      "input_3 (InputLayer)            [(None, None)]       0                                            \n",
      "__________________________________________________________________________________________________\n",
      "lstm_1 (LSTM)                   [(None, 40, 256), (N 525312      lstm[0][0]                       \n",
      "__________________________________________________________________________________________________\n",
      "embedding_1 (Embedding)         (None, None, 128)    256000      input_3[0][0]                    \n",
      "__________________________________________________________________________________________________\n",
      "lstm_2 (LSTM)                   [(None, 40, 256), (N 525312      lstm_1[0][0]                     \n",
      "__________________________________________________________________________________________________\n",
      "lstm_3 (LSTM)                   [(None, None, 256),  394240      embedding_1[0][0]                \n",
      "                                                                 lstm_2[0][1]                     \n",
      "                                                                 lstm_2[0][2]                     \n",
      "__________________________________________________________________________________________________\n",
      "dense (Dense)                   (None, None, 2000)   514000      lstm_3[0][0]                     \n",
      "==================================================================================================\n",
      "Total params: 3,633,104\n",
      "Trainable params: 3,633,104\n",
      "Non-trainable params: 0\n",
      "__________________________________________________________________________________________________\n"
     ]
    }
   ],
   "source": [
    "# 디코더의 출력층\n",
    "decoder_softmax_layer = Dense(tar_vocab, activation='softmax')\n",
    "decoder_softmax_outputs = decoder_softmax_layer(decoder_outputs) \n",
    "\n",
    "# 모델 정의\n",
    "model = Model([encoder_inputs, decoder_inputs], decoder_softmax_outputs)\n",
    "model.summary()"
   ]
  },
  {
   "cell_type": "markdown",
   "id": "fa234e5c",
   "metadata": {},
   "source": [
    "## Step 3. 어텐션 메커니즘 사용하기 (추상적 요약)"
   ]
  },
  {
   "cell_type": "code",
   "execution_count": 52,
   "id": "5ce76ed4",
   "metadata": {},
   "outputs": [
    {
     "name": "stdout",
     "output_type": "stream",
     "text": [
      "Model: \"model_1\"\n",
      "__________________________________________________________________________________________________\n",
      "Layer (type)                    Output Shape         Param #     Connected to                     \n",
      "==================================================================================================\n",
      "input_1 (InputLayer)            [(None, 40)]         0                                            \n",
      "__________________________________________________________________________________________________\n",
      "embedding (Embedding)           (None, 40, 128)      1024000     input_1[0][0]                    \n",
      "__________________________________________________________________________________________________\n",
      "lstm (LSTM)                     [(None, 40, 256), (N 394240      embedding[0][0]                  \n",
      "__________________________________________________________________________________________________\n",
      "input_3 (InputLayer)            [(None, None)]       0                                            \n",
      "__________________________________________________________________________________________________\n",
      "lstm_1 (LSTM)                   [(None, 40, 256), (N 525312      lstm[0][0]                       \n",
      "__________________________________________________________________________________________________\n",
      "embedding_1 (Embedding)         (None, None, 128)    256000      input_3[0][0]                    \n",
      "__________________________________________________________________________________________________\n",
      "lstm_2 (LSTM)                   [(None, 40, 256), (N 525312      lstm_1[0][0]                     \n",
      "__________________________________________________________________________________________________\n",
      "lstm_3 (LSTM)                   [(None, None, 256),  394240      embedding_1[0][0]                \n",
      "                                                                 lstm_2[0][1]                     \n",
      "                                                                 lstm_2[0][2]                     \n",
      "__________________________________________________________________________________________________\n",
      "attention_layer (AdditiveAttent (None, None, 256)    256         lstm_3[0][0]                     \n",
      "                                                                 lstm_2[0][0]                     \n",
      "__________________________________________________________________________________________________\n",
      "concat_layer (Concatenate)      (None, None, 512)    0           lstm_3[0][0]                     \n",
      "                                                                 attention_layer[0][0]            \n",
      "__________________________________________________________________________________________________\n",
      "dense_1 (Dense)                 (None, None, 2000)   1026000     concat_layer[0][0]               \n",
      "==================================================================================================\n",
      "Total params: 4,145,360\n",
      "Trainable params: 4,145,360\n",
      "Non-trainable params: 0\n",
      "__________________________________________________________________________________________________\n"
     ]
    }
   ],
   "source": [
    "from tensorflow.keras.layers import AdditiveAttention\n",
    "\n",
    "# 어텐션 층(어텐션 함수)\n",
    "attn_layer = AdditiveAttention(name='attention_layer')\n",
    "\n",
    "# 인코더와 디코더의 모든 time step의 hidden state를 어텐션 층에 전달하고 결과를 리턴\n",
    "attn_out = attn_layer([decoder_outputs, encoder_outputs])\n",
    "\n",
    "\n",
    "# 어텐션의 결과와 디코더의 hidden state들을 연결\n",
    "decoder_concat_input = Concatenate(axis=-1, name='concat_layer')([decoder_outputs, attn_out])\n",
    "\n",
    "# 디코더의 출력층\n",
    "decoder_softmax_layer = Dense(tar_vocab, activation='softmax')\n",
    "decoder_softmax_outputs = decoder_softmax_layer(decoder_concat_input)\n",
    "\n",
    "# 모델 정의\n",
    "model = Model([encoder_inputs, decoder_inputs], decoder_softmax_outputs)\n",
    "model.summary()"
   ]
  },
  {
   "cell_type": "code",
   "execution_count": 53,
   "id": "0f61023d",
   "metadata": {},
   "outputs": [
    {
     "name": "stdout",
     "output_type": "stream",
     "text": [
      "Epoch 1/50\n",
      "142/142 [==============================] - 43s 68ms/step - loss: 4.0560 - val_loss: 3.6841\n",
      "Epoch 2/50\n",
      "142/142 [==============================] - 9s 60ms/step - loss: 3.8758 - val_loss: 3.6584\n",
      "Epoch 3/50\n",
      "142/142 [==============================] - 9s 61ms/step - loss: 3.6974 - val_loss: 3.5796\n",
      "Epoch 4/50\n",
      "142/142 [==============================] - 9s 62ms/step - loss: 3.5830 - val_loss: 3.4807\n",
      "Epoch 5/50\n",
      "142/142 [==============================] - 9s 62ms/step - loss: 3.4905 - val_loss: 3.4100\n",
      "Epoch 6/50\n",
      "142/142 [==============================] - 9s 63ms/step - loss: 3.4187 - val_loss: 3.3266\n",
      "Epoch 7/50\n",
      "142/142 [==============================] - 9s 64ms/step - loss: 3.3243 - val_loss: 3.3026\n",
      "Epoch 8/50\n",
      "142/142 [==============================] - 9s 64ms/step - loss: 3.2117 - val_loss: 3.1585\n",
      "Epoch 9/50\n",
      "142/142 [==============================] - 9s 64ms/step - loss: 3.0986 - val_loss: 3.0786\n",
      "Epoch 10/50\n",
      "142/142 [==============================] - 9s 64ms/step - loss: 2.9895 - val_loss: 3.0047\n",
      "Epoch 11/50\n",
      "142/142 [==============================] - 9s 64ms/step - loss: 2.8868 - val_loss: 3.0630\n",
      "Epoch 12/50\n",
      "142/142 [==============================] - 9s 64ms/step - loss: 2.7850 - val_loss: 2.8779\n",
      "Epoch 13/50\n",
      "142/142 [==============================] - 9s 63ms/step - loss: 2.6938 - val_loss: 2.8289\n",
      "Epoch 14/50\n",
      "142/142 [==============================] - 9s 64ms/step - loss: 2.6073 - val_loss: 2.7853\n",
      "Epoch 15/50\n",
      "142/142 [==============================] - 9s 63ms/step - loss: 2.5269 - val_loss: 2.7527\n",
      "Epoch 16/50\n",
      "142/142 [==============================] - 9s 63ms/step - loss: 2.4515 - val_loss: 2.7163\n",
      "Epoch 17/50\n",
      "142/142 [==============================] - 9s 64ms/step - loss: 2.3828 - val_loss: 2.6945\n",
      "Epoch 18/50\n",
      "142/142 [==============================] - 9s 64ms/step - loss: 2.3153 - val_loss: 2.6733\n",
      "Epoch 19/50\n",
      "142/142 [==============================] - 9s 64ms/step - loss: 2.2534 - val_loss: 2.6585\n",
      "Epoch 20/50\n",
      "142/142 [==============================] - 9s 64ms/step - loss: 2.1931 - val_loss: 2.6505\n",
      "Epoch 21/50\n",
      "142/142 [==============================] - 9s 64ms/step - loss: 2.1354 - val_loss: 2.6381\n",
      "Epoch 22/50\n",
      "142/142 [==============================] - 9s 64ms/step - loss: 2.0798 - val_loss: 2.6267\n",
      "Epoch 23/50\n",
      "142/142 [==============================] - 9s 64ms/step - loss: 2.0251 - val_loss: 2.6204\n",
      "Epoch 24/50\n",
      "142/142 [==============================] - 9s 64ms/step - loss: 1.9752 - val_loss: 2.6219\n",
      "Epoch 25/50\n",
      "142/142 [==============================] - 9s 64ms/step - loss: 1.9236 - val_loss: 2.6197\n",
      "Epoch 26/50\n",
      "142/142 [==============================] - 9s 64ms/step - loss: 1.8762 - val_loss: 2.6193\n",
      "Epoch 27/50\n",
      "142/142 [==============================] - 9s 64ms/step - loss: 1.8295 - val_loss: 2.6208\n",
      "Epoch 28/50\n",
      "142/142 [==============================] - 9s 64ms/step - loss: 1.7825 - val_loss: 2.6235\n",
      "Epoch 00028: early stopping\n"
     ]
    }
   ],
   "source": [
    "model.compile(optimizer='rmsprop', loss='sparse_categorical_crossentropy')\n",
    "es = EarlyStopping(monitor='val_loss', patience=2, verbose=1)\n",
    "history = model.fit(x=[encoder_input_train, decoder_input_train], y=decoder_target_train, \\\n",
    "          validation_data=([encoder_input_test, decoder_input_test], decoder_target_test), \\\n",
    "          batch_size=256, callbacks=[es], epochs=50)"
   ]
  },
  {
   "cell_type": "code",
   "execution_count": 54,
   "id": "e1019c58",
   "metadata": {},
   "outputs": [
    {
     "data": {
      "image/png": "[encoded data removed]",
      "text/plain": [
       "<Figure size 432x288 with 1 Axes>"
      ]
     },
     "metadata": {
      "needs_background": "light"
     },
     "output_type": "display_data"
    }
   ],
   "source": [
    "plt.plot(history.history['loss'], label='train')\n",
    "plt.plot(history.history['val_loss'], label='test')\n",
    "plt.legend()\n",
    "plt.show()"
   ]
  },
  {
   "cell_type": "markdown",
   "id": "d93b25c7",
   "metadata": {},
   "source": [
    "## Step 4. 실제 결과와 요약문 비교하기 (추상적 요약)"
   ]
  },
  {
   "cell_type": "code",
   "execution_count": 55,
   "id": "c230162b",
   "metadata": {},
   "outputs": [],
   "source": [
    "src_index_to_word = src_tokenizer.index_word # 원문 단어 집합에서 정수 -> 단어를 얻음\n",
    "tar_word_to_index = tar_tokenizer.word_index # 요약 단어 집합에서 단어 -> 정수를 얻음\n",
    "tar_index_to_word = tar_tokenizer.index_word # 요약 단어 집합에서 정수 -> 단어를 얻음"
   ]
  },
  {
   "cell_type": "code",
   "execution_count": 56,
   "id": "3d02c73e",
   "metadata": {},
   "outputs": [],
   "source": [
    "# 인코더 설계\n",
    "encoder_model = Model(inputs=encoder_inputs, outputs=[encoder_outputs, state_h, state_c])\n",
    "\n",
    "# 이전 시점의 상태들을 저장하는 텐서\n",
    "decoder_state_input_h = Input(shape=(hidden_size,))\n",
    "decoder_state_input_c = Input(shape=(hidden_size,))\n",
    "\n",
    "dec_emb2 = dec_emb_layer(decoder_inputs)\n",
    "\n",
    "# 문장의 다음 단어를 예측하기 위해서 초기 상태(initial_state)를 이전 시점의 상태로 사용. 이는 뒤의 함수 decode_sequence()에 구현\n",
    "# 훈련 과정에서와 달리 LSTM의 리턴하는 은닉 상태와 셀 상태인 state_h와 state_c를 버리지 않음.\n",
    "decoder_outputs2, state_h2, state_c2 = decoder_lstm(dec_emb2, initial_state=[decoder_state_input_h, decoder_state_input_c])\n"
   ]
  },
  {
   "cell_type": "code",
   "execution_count": 57,
   "id": "faa34131",
   "metadata": {},
   "outputs": [],
   "source": [
    "# 어텐션 함수\n",
    "decoder_hidden_state_input = Input(shape=(text_max_len, hidden_size))\n",
    "attn_out_inf = attn_layer([decoder_outputs2, decoder_hidden_state_input])\n",
    "decoder_inf_concat = Concatenate(axis=-1, name='concat')([decoder_outputs2, attn_out_inf])\n",
    "\n",
    "# 디코더의 출력층\n",
    "decoder_outputs2 = decoder_softmax_layer(decoder_inf_concat) \n",
    "\n",
    "# 최종 디코더 모델\n",
    "decoder_model = Model(\n",
    "    [decoder_inputs] + [decoder_hidden_state_input,decoder_state_input_h, decoder_state_input_c],\n",
    "    [decoder_outputs2] + [state_h2, state_c2])"
   ]
  },
  {
   "cell_type": "code",
   "execution_count": 64,
   "id": "fe092a3f",
   "metadata": {},
   "outputs": [],
   "source": [
    "def decode_sequence(input_seq):\n",
    "    # 입력으로부터 인코더의 상태를 얻음\n",
    "    e_out, e_h, e_c = encoder_model.predict(input_seq)\n",
    "\n",
    "     # <SOS>에 해당하는 토큰 생성\n",
    "    target_seq = np.zeros((1,1))\n",
    "    target_seq[0, 0] = tar_word_to_index['sostoken']\n",
    "\n",
    "    stop_condition = False\n",
    "    decoded_sentence = ''\n",
    "    while not stop_condition: # stop_condition이 True가 될 때까지 루프 반복\n",
    "\n",
    "        output_tokens, h, c = decoder_model.predict([target_seq] + [e_out, e_h, e_c])\n",
    "        sampled_token_index = np.argmax(output_tokens[0, -1, :])\n",
    "        sampled_token = tar_index_to_word[sampled_token_index]\n",
    "\n",
    "        if (sampled_token!='eostoken'):\n",
    "            decoded_sentence += ' '+sampled_token\n",
    "\n",
    "        #  <eos>에 도달하거나 최대 길이를 넘으면 중단.\n",
    "        if (sampled_token == 'eostoken'  or len(decoded_sentence.split()) >= (headlines_max_len-1)):\n",
    "            stop_condition = True\n",
    "\n",
    "        # 길이가 1인 타겟 시퀀스를 업데이트\n",
    "        target_seq = np.zeros((1,1))\n",
    "        target_seq[0, 0] = sampled_token_index\n",
    "\n",
    "        # 상태를 업데이트 합니다.\n",
    "        e_h, e_c = h, c\n",
    "\n",
    "    return decoded_sentence"
   ]
  },
  {
   "cell_type": "code",
   "execution_count": 68,
   "id": "20c05734",
   "metadata": {},
   "outputs": [],
   "source": [
    "# 원문의 정수 시퀀스를 텍스트 시퀀스로 변환\n",
    "def seq2text(input_seq):\n",
    "    temp=''\n",
    "    for i in input_seq:\n",
    "        if (i!=0):\n",
    "            temp = temp + src_index_to_word[i]+' '\n",
    "    return temp\n",
    "\n",
    "# 요약문의 정수 시퀀스를 텍스트 시퀀스로 변환\n",
    "def seq2summary(input_seq):\n",
    "    temp = ''\n",
    "    for i in input_seq:\n",
    "        if i == tar_word_to_index['sostoken']:  # Skip the <SOS> token\n",
    "            continue\n",
    "        if i == tar_word_to_index['eostoken']:  # Stop processing on <EOS> token\n",
    "            break\n",
    "        if i != 0:  # Assuming 0 is the padding value\n",
    "            temp += tar_index_to_word[i] + ' '  # Use your mapping variable for the target language\n",
    "    return temp.strip()  # Remove trailing whitespace\n",
    "    "
   ]
  },
  {
   "cell_type": "code",
   "execution_count": 69,
   "id": "fc3a5316",
   "metadata": {},
   "outputs": [
    {
     "name": "stdout",
     "output_type": "stream",
     "text": [
      "원문 : class action lawsuit launched facebook cambridge analytica two companies british us lawyers alleged misuse personal data crore people lawsuit claims firms developed political propaganda campaigns uk us obtaining users private information social media network \n",
      "실제 요약 : class action lawsuit filed fb\n",
      "예측 요약 :  facebook data data breach facebook data data\n",
      "\n",
      "\n",
      "원문 : iit lifted restrictions girls bringing rules par boys students demanding long decided away restrictions like boys girls also step around campus round clock director ak said \n",
      "실제 요약 : iit girls\n",
      "예측 요약 :  mumbai university gets lakh sexual harassment exam\n",
      "\n",
      "\n",
      "원문 : karnataka law minister said included karnataka anti bill science slammed remark alleging minister confused karnataka cabinet last month cleared anti bill making evil practices punishable two five years imprisonment \n",
      "실제 요약 : taka law minister\n",
      "예측 요약 :  karnataka minister parrikar taka cm taka cm\n",
      "\n",
      "\n",
      "원문 : indian newspaper recently published interview someone believed ex wwe wrestler interview titled falling love india talked india visit mr wrestling also accompanied picture newspaper later took report website claiming incorrect \n",
      "실제 요약 : paper\n",
      "예측 요약 :  want said said said india said harassment\n",
      "\n",
      "\n",
      "원문 : youtube become platform video ever days minute video million overtaking justin bieber song baby nearly million video criticised failing feature youtube biggest personalities including paul ignoring key web culture events \n",
      "실제 요약 : youtube becomes video ever days\n",
      "예측 요약 :  car shows car goes viral first car\n",
      "\n",
      "\n",
      "원문 : talking sister kareena kapoor khan radio show women want karisma kapoor said today role model apart mom kapoor inspiration single raised us well speaking comeback karisma said get comeback term used industry women workplace \n",
      "실제 요약 : today role model kapoor kareena\n",
      "예측 요약 :  kareena wanted get married st time kareena\n",
      "\n",
      "\n",
      "원문 : government owned banks reported losses crore final quarter according data net loss crore banks quarter last year listed public sector banks reported earnings till friday indian bank bank posted profits \n",
      "실제 요약 : public sector banks lose crore march quarter\n",
      "예측 요약 :  bank posts crore loss crore dec quarter\n",
      "\n",
      "\n",
      "원문 : asia billionaires world surpassing us first time according report number billionaires asia rose whereas us added billionaires total however us billionaires still control wealth trillion \n",
      "실제 요약 : asia us first time\n",
      "예측 요약 :  world richest world richest world world record\n",
      "\n",
      "\n",
      "원문 : businessman announced plans cows country maintain milk supplies saudi arabia several nations cut diplomatic ties qatar imposing food transport nation proposal described biggest cattle ever attempted require many flights deliver animals \n",
      "실제 요약 : cows qatar\n",
      "예측 요약 :  iran announces crore worth crore seized venezuela\n",
      "\n",
      "\n",
      "원문 : irish airline fired six employees photo showing sleeping airport floor photo went viral internet received criticism providing rooms take rest however airline clarified crew room short period time moving vip \n",
      "실제 요약 : airline fires employees photo floor\n",
      "예측 요약 :  passenger alleges drunk passenger flight drunk passenger\n",
      "\n",
      "\n",
      "원문 : pakistan mohammad slammed icc rules suspect illegal bowling actions following handed show cause notice comments pakistan cricket board banned bowling said match field umpires able see degrees \n",
      "실제 요약 : pakistan bowler slams icc gets slammed board\n",
      "예측 요약 :  pakistan fined pakistan fined lakh players delivery\n",
      "\n",
      "\n",
      "원문 : man killed friend allegedly bathroom latter mother hyderabad police said accused cab driver stabbed year old slit throat two consumed alcohol following incident man surrendered police \n",
      "실제 요약 : man friend mother\n",
      "예측 요약 :  man kills man killed wife gurugram wife\n",
      "\n",
      "\n",
      "원문 : heat mitchell took catch dismiss melbourne stars ben duck big league wednesday fielding short third man position take catch following drive ball burst hands completed catch second attempt \n",
      "실제 요약 : takes catch batsman\n",
      "예측 요약 :  player football team gets match league match\n",
      "\n",
      "\n",
      "원문 : facebook revealed received data requests indian government first six months around higher year ago period according facebook transparency report platform offered data cases total data requests indian government january june stood per report \n",
      "실제 요약 : rise data indian govt fb\n",
      "예측 요약 :  facebook india women women women women facebook\n",
      "\n",
      "\n",
      "원문 : least infants admitted special new born care unit hospital madhya pradesh last month died per reports second case reported state within week died government hospital \n",
      "실제 요약 : die mp hospital second case week\n",
      "예측 요약 :  village declared women village village village village\n",
      "\n",
      "\n",
      "원문 : several labourers alleged aap promised free food attend aap chief arvind kejriwal rally haryana sunday added given money told stuck somewhere meanwhile haryana aap naveen said bjp made people wear aap made give \n",
      "실제 요약 : people claim attend aap rally\n",
      "예측 요약 :  punjab cm adityanath singh remark punjab cm\n",
      "\n",
      "\n",
      "원문 : uk launched investigation claims russia used twitter facebook influence brexit referendum seen allegations interference american election right ensure nothing like happened officials said recently facebook revealed russian agents published posts platform us presidential elections \n",
      "실제 요약 : uk launches probe russian brexit vote\n",
      "예측 요약 :  russian facebook russian russian russian fake news\n",
      "\n",
      "\n",
      "원문 : sunny deol bobby deol starrer poster boys released friday funny never actually audiences wrote hindustan times indian express wrote film sorry film times india called light take population problem rated \n",
      "실제 요약 : sunny poster boys hits theatres\n",
      "예측 요약 :  sonakshi play debut upcoming film film reports\n",
      "\n",
      "\n",
      "원문 : britain year old adam broke world record set new one world championships tuesday seconds seconds produced world championships notably also britain gold metres \n",
      "실제 요약 : sets world record world\n",
      "예측 요약 :  world record breaks world record record date\n",
      "\n",
      "\n",
      "원문 : responding rumours veere di wedding actress kareena kapoor said friends kareena added whole idea film show story four friends much fun inspiring even film shot lot fun \n",
      "실제 요약 : wedding sets kareena\n",
      "예측 요약 :  kareena asked like like kareena kareena kareena\n",
      "\n",
      "\n",
      "원문 : actress parineeti chopra said used often younger brothers almost like second mother man get married brothers always love life added parineeti revealed brothers \n",
      "실제 요약 : almost like second mother brothers parineeti\n",
      "예측 요약 :  people said like like kid parineeti chopra\n",
      "\n",
      "\n",
      "원문 : greek female tennis player maria stole time men grand slam champion roger federer towel keep defeating mixed doubles match cup hands federer year old noticed left towel seat side stole post match interview \n",
      "실제 요약 : female rival federer\n",
      "예측 요약 :  federer loses tennis player wins year old\n",
      "\n",
      "\n",
      "원문 : village district telangana claimed complete liquor board village gram panchayat office house tax collection school going children construction toilets small savings village also follows family planning norms family maximum two children \n",
      "실제 요약 : telangana village claims liquor\n",
      "예측 요약 :  mp village give compensation village village village\n",
      "\n",
      "\n",
      "원문 : many children died due various last hours gorakhpur medical college deaths ward intensive care unit another general ward earlier children died hospital within two days due lack oxygen \n",
      "실제 요약 : children die within hours hospital\n",
      "예측 요약 :  die die due andhra hospital hospital hospital\n",
      "\n",
      "\n",
      "원문 : uttar pradesh mla sunil dutt carried accident victim back inside hospital two victims taken available mla way home saw injured immediately stopped car take hospital \n",
      "실제 요약 : mla accident victim back inside hospital\n",
      "예측 요약 :  mla mla beats dead accident wedding bihar\n",
      "\n",
      "\n",
      "원문 : shekhar revealed son dating kangana ranaut earlier came crying wife realising two shekhar added discovered messages sent kangana hrithik shekhar said never saw messages hrithik adding always one thing \n",
      "실제 요약 : son kangana two\n",
      "예측 요약 :  kangana ranaut sister like year old sister\n",
      "\n",
      "\n",
      "원문 : self styled godman asaram rape case prosecution witness rahul said year old told raping woman like asaram said sent letters asaram seeing girl ahmedabad ashram \n",
      "실제 요약 : said rape like\n",
      "예측 요약 :  ex woman rape victim rape victim victim\n",
      "\n",
      "\n",
      "원문 : one transport ministers served kerala government completed full term according reports last minister held portfolio thomas resigned amid criticism alleged involvement land case minister completed term \n",
      "실제 요약 : kerala ministers full term\n",
      "예측 요약 :  assam announces lakh funds new finance minister\n",
      "\n",
      "\n",
      "원문 : canadian technology company made android app devices smartphone screen except small area prevent people area privacy app moved view specific chats apps users also change transparency screens \n",
      "실제 요약 : app phone screen prevent\n",
      "예측 요약 :  android users users work upcoming founder founder\n",
      "\n",
      "\n",
      "원문 : arjun kapoor sharing old picture wrote like people picture featured sonam kapoor kapoor kapoor kapoor sister kapoor earlier interview arjun said sonam favourite cousin always life \n",
      "실제 요약 : people asks arjun old picture\n",
      "예측 요약 :  janhvi shares pic sridevi janhvi ranbir kapoor\n",
      "\n",
      "\n",
      "원문 : taapsee pannu defending amitabh bachchan male picture pink completing one year said possible deliberately chose picture might realise added pink starred taapsee kriti lead roles \n",
      "실제 요약 : taapsee big male pic\n",
      "예측 요약 :  amitabh bachchan amitabh bachchan starrer hits theatres\n",
      "\n",
      "\n",
      "원문 : temple kerala district thursday hosted party nearly muslims breaking fast month ramzan temple located muslim area earlier provided funds hindus muslims works currently ongoing \n",
      "실제 요약 : kerala temple party muslims\n",
      "예측 요약 :  kerala temple die kerala floods sabarimala temple\n",
      "\n",
      "\n",
      "원문 : capital officially named european capital culture ceremony held saturday share title city netherlands notably european culture initiative aims highlight diversity european culture increase citizens sense belonging common cultural area \n",
      "실제 요약 : capital named european capital\n",
      "예측 요약 :  uk announces first ever opens first time\n",
      "\n",
      "\n",
      "원문 : delhi metro rail corporation permit passengers exit rajiv metro station pm december however passengers allowed enter station board trains enable authorities maintain law order new year eve celebrations new delhi district area said \n",
      "실제 요약 : exit metro station pm\n",
      "예측 요약 :  delhi metro get new local metro delhi\n",
      "\n",
      "\n",
      "원문 : digital currency bitcoin fallen much week track largest weekly since december bitcoin hit record far year remains decline top technology stocks lost combined billion week \n",
      "실제 요약 : bitcoin worst week since\n",
      "예측 요약 :  bitcoin price price record high high months\n",
      "\n",
      "\n",
      "원문 : tamil nadu forest department conducted cleaning drive gulf much kg waste including plastic water bottles sea notably past several years department warning people area \n",
      "실제 요약 : tamil nadu\n",
      "예측 요약 :  kg worth lakh seized andhra pradesh village\n",
      "\n",
      "\n",
      "원문 : least people killed lakh affected due floods sri lanka week officials said houses south north central sri lanka completely partially damaged due heavy rains strong winds army deployed search rescue relief operations \n",
      "실제 요약 : killed lakh affected due floods sri lanka\n",
      "예측 요약 :  india lives death toll rises crore rises\n",
      "\n",
      "\n",
      "원문 : three volunteers including two british french citizen arrested food among migrants italian town near french border charged violating city order food donations refugees notably around lakh migrants crossed mediterranean north africa italy last year \n",
      "실제 요약 : arrested giving food migrants italy\n",
      "예측 요약 :  uk police arrests london seized spain seized\n",
      "\n",
      "\n",
      "원문 : video pope francis ordering stop thrown horse trip chile surfaced online seen talking injured officer stepped vehicle waited near ambulance arrived officials said seriously injured \n",
      "실제 요약 : pope stops help\n",
      "예측 요약 :  white prez suspends new york terror attack\n",
      "\n",
      "\n",
      "원문 : rio olympics gold medalist appeal relating doping ban us arbitration panel agreed sprinter tested positive kissing sprinter declared banned substance entered system girlfriend took medicine \n",
      "실제 요약 : failed drug test\n",
      "예측 요약 :  new zealand wins first time ever history\n",
      "\n",
      "\n",
      "원문 : shares japanese maker lost nearly value three days comes reports suggested might file bankruptcy protection sell assets earlier crore cars subjected largest auto industry blamed deaths globally \n",
      "실제 요약 : loses value days\n",
      "예측 요약 :  crypto crypto exchange firm exchange bitcoin fraud\n",
      "\n",
      "\n",
      "원문 : indian pacer sreesanth friday posted series tweets questioning bcci decision appeal kerala hc order lifted life ban bcci worst anyone proven innocent know wrote one tweets \n",
      "실제 요약 : bcci god says\n",
      "예측 요약 :  bcci releases banned playing playing cricket year\n",
      "\n",
      "\n",
      "원문 : sonam kapoor ahuja turned today revealed wanted get married meeting anand ahuja married recently believe institution marriage added talking memory birthday sonam recalled surprise anand planned dating two months \n",
      "실제 요약 : wanted get married met anand sonam kapoor\n",
      "예측 요약 :  anand anand get married brother marriage sonam\n",
      "\n",
      "\n",
      "원문 : turkey launch new operation kurdish fighters syria days president recep tayyip erdo said turkey claims syrian kurdish terrorist organisation links kurdish insurgency inside turkey however us supports considering key player fight isis \n",
      "실제 요약 : turkey launch new syria\n",
      "예측 요약 :  syrian chemical weapons chemical attack syria us\n",
      "\n",
      "\n",
      "원문 : actress sushmita sen shared video instagram younger daughter seen dancing singer ed sheeran song shape two seen dancing pool sushmita elder daughter also features video shows different moments sushmita vacation daughters \n",
      "실제 요약 : daughter dance ed\n",
      "예측 요약 :  video shows actress dancing together actress report\n",
      "\n",
      "\n",
      "원문 : luxury home hong kong sold million setting price record apartment sales asia land development covers square foot private swimming pool three parking spaces apartment costs nearly much india mission mars india spent million \n",
      "실제 요약 : home becomes asia expensive crore\n",
      "예측 요약 :  indian origin record record crore sale months\n",
      "\n",
      "\n",
      "원문 : slamming aap led delhi government rising levels pollution national capital national green tribunal tuesday asked gift infected children rejected women drivers two wheelers odd even scheme proposed delhi ncr tribunal earlier asked government scheme stunt \n",
      "실제 요약 : gift children delhi govt\n",
      "예측 요약 :  delhi approves delhi govt give new schools\n",
      "\n",
      "\n",
      "원문 : defence minister nirmala sitharaman launched defence india startup challenge bengaluru saturday gave open challenges startups defence sector technological needs challenges include giving ideas see development based local area network laser weapons unmanned surface underwater vehicles \n",
      "실제 요약 : defence minister gives open startups\n",
      "예측 요약 :  iran launches cr worth cr car reports\n",
      "\n",
      "\n",
      "원문 : gunman killed two guards injured three others saturday saudi king palace shot dead security forces interior ministry said attacker armed rifle three grenades identified year old saudi national notably saudi king currently visit russia \n",
      "실제 요약 : kills two saudi king\n",
      "예측 요약 :  killed injured terror attack uk uk base\n",
      "\n",
      "\n",
      "원문 : income tax department issued officers asking dealing taxpayers comes received several complaints regarding harassment misconduct high officers staff incidents damage image reputation income tax department added \n",
      "실제 요약 : dept officers\n",
      "예측 요약 :  dept issues notice media dept employees report\n",
      "\n",
      "\n"
     ]
    }
   ],
   "source": [
    "for i in range(50, 100):\n",
    "    print(\"원문 :\", seq2text(encoder_input_test[i]))\n",
    "    print(\"실제 요약 :\", seq2summary(decoder_input_test[i]))\n",
    "    print(\"예측 요약 :\", decode_sequence(encoder_input_test[i].reshape(1, text_max_len)))\n",
    "    print(\"\\n\")"
   ]
  },
  {
   "cell_type": "markdown",
   "id": "7eabf933",
   "metadata": {},
   "source": [
    "## Step 5. Summa을 이용해서 추출적 요약해보기"
   ]
  },
  {
   "cell_type": "code",
   "execution_count": 119,
   "id": "376c0e27",
   "metadata": {},
   "outputs": [],
   "source": [
    "import requests\n",
    "from summa.summarizer import summarize"
   ]
  },
  {
   "cell_type": "code",
   "execution_count": 120,
   "id": "b3cff30d",
   "metadata": {},
   "outputs": [],
   "source": [
    "urllib.request.urlretrieve(\"https://raw.githubusercontent.com/sunnysai12345/News_Summary/master/news_summary_more.csv\", filename=\"news_summary_more.csv\")\n",
    "data = pd.read_csv('news_summary_more.csv', encoding='iso-8859-1')"
   ]
  },
  {
   "cell_type": "code",
   "execution_count": 122,
   "id": "0bede4fc",
   "metadata": {},
   "outputs": [
    {
     "name": "stdout",
     "output_type": "stream",
     "text": [
      "['Users get one CRED coin per rupee of bill paid, which can be used to avail rewards from brands like Ixigo, BookMyShow, UberEats, Cult.Fit and more.']\n",
      "['The match witnessed India getting all out for 92, their seventh lowest total in ODI cricket history.']\n",
      "['Also, customers have options to insure against Critical Illnesses, Disability and Accidental Death Benefit Rider with a life cover up to the age of 80 years.']\n",
      "['Speaking about the sexual harassment allegations against Rajkumar Hirani, Sonam Kapoor said, \"I\\'ve known Hirani for many years...What if it\\'s not true, the [#MeToo] movement will get derailed.\" \"In the #MeToo movement, I always believe a woman.']\n",
      "['Pakistani singer Rahat Fateh Ali Khan has denied receiving any notice from the Enforcement Directorate over allegedly smuggling foreign currency out of India.']\n",
      "[\"India's previous lowest ODI total in New Zealand was 108.\"]\n",
      "['Weeks after ex-CBI Director Alok Verma told the Department of Personnel and Training to consider him retired, the Home Ministry asked him to join work on the last day of his fixed tenure as Director on Thursday.']\n",
      "['Andhra Pradesh CM N Chandrababu Naidu has said, \"When I met then US President Bill Clinton, I addressed him as Mr Clinton, not as \\'sir\\'.']\n",
      "[\"Congress candidate Shafia Zubair won the Ramgarh Assembly seat in Rajasthan, by defeating BJP's Sukhwant Singh with a margin of 12,228 votes in the bypoll.\"]\n",
      "[\"Two minor cousins in Uttar Pradesh's Gorakhpur were allegedly repeatedly burnt with tongs and forced to eat human excreta by their family for being friends with two boys from the same school.\"]\n",
      "['Isha Ghosh, an 81-year-old member of Bharat Scouts and Guides (BSG), has been imparting physical and mental training to schoolchildren in Jharkhand for several decades.']\n",
      "['Urging saints and seers at the Kumbh Mela to quit smoking, Yoga guru Ramdev said, \"We follow Ram and Krishna who never smoked in their life then why should we?\" Making them take a pledge to quit tobacco, he collected chillum (clay pipe) from several sadhus.']\n",
      "[\"Former stripper and regional sales director of a pharmaceutical company, Sunrise Lee, gave a doctor a lap dance in a nightclub to persuade him to prescribe an addictive fentanyl spray in 2012, the company's sales representative told a US court.\"]\n",
      "['\"It was a very emotional affair for everyone in my family,\" said Isha.']\n",
      "[\"Louis Vuitton owner LVMH, which makes high-end beverages like MoÃ\\x83Â«t & Chandon champagne and Hennessy cognac, said it's stockpiling four months' worth of wine and spirits in UK in preparation for Brexit.\"]\n",
      "['Filmmaker Karan Johar and actress Tabu turned showstoppers for Gaurav Gupta on the opening night of LakmÃ\\x83Â© Fashion Week Summer/ Resort 2019.']\n",
      "[]\n",
      "[]\n",
      "['Union Minister Dharmendra Pradhan on Wednesday claimed the illegal mining mafia in Odisha operates under the control of CM Naveen Patnaik and state Congress chief Niranjan Patnaik.']\n",
      "[]\n",
      "[\"It'll also pursue activities for sustained human space flight missions, ISRO added.\"]\n",
      "['At least 12 people have been killed and 170 others have been injured in Saudi Arabia this week due to flooding from heavy rain.']\n",
      "[\"Reliance Industries' Chairman Mukesh Ambani's daughter Isha Ambani has featured on the cover of the February edition of Vogue India.\"]\n",
      "[\"The US had in November granted a six-month waiver to India from sanctions against Iran and restricted the country's monthly intake of Iranian oil to 3,00,000 barrels per day.\"]\n",
      "['Ambrose ended with first-innings figures of 18-9-25-7.']\n",
      "[\"The names will appear on zoo's 'roach board' on February 14.\"]\n",
      "['Rohit scored 7,799 runs in his first 199 ODIs at an average of 48.14.']\n",
      "['Notably, Shubman was named Player of the Under-19 World Cup in New Zealand last year.']\n",
      "['Investigators searching for a lost plane carrying Argentine forward Emiliano Sala found two seat cushions on French coast that \"likely\" belonged to the aircraft.']\n",
      "[\"Italian third division football side Lucchese's head coach Giancarlo Favarin has been banned for five months for headbutting Alessandria's assistant coach Gaetano Mancino during a brawl following the teams' 2-2 draw on Sunday.\"]\n",
      "['Cyclists taking part in National Track Cycling Championship in Jaipur opted to sleep on the floor inside the stadium instead of hotels over expensive cycles.']\n",
      "[\"Silvia Grecco, a 56-year-old Brazilian mother narrates her local football team Palmeiras' matches live to her 12-year-old blind and autistic son Nickollas from the stands.\"]\n",
      "['A TechCrunch report has claimed that IndiaÃ¢Â\\x80Â\\x99s largest bank SBI secured a passwordless server \"overnight\" on being alerted it allowed anyone to access phone numbers, bank balances, and transactions of millions of its customers.']\n",
      "['Rahul Gandhi has replied to Goa CM Manohar Parrikar\\'s letter, which accused the Congress President of using his \"visit to an ailing man for political gains\".']\n",
      "['Twenty-seven-year-old Mohammed Mahuwala was arrested in Indore on Wednesday for allegedly cheating e-commerce giant Amazon of nearly Ã¢Â\\x82Â¹30 lakh.', 'Mahuwala was a member of a gang who ordered costly gadgets from Amazon.']\n",
      "['AgustaWestland chopper scam co-accused Rajiv Saxena was extradited to India from UAE on Wednesday.']\n",
      "['Afghan President Ashraf Ghani has said the \"keys to war\" are in Pakistan\\'s Islamabad, Quetta and Rawalpindi, accusing the country of providing safe havens to militants, including those belonging to the Taliban.']\n",
      "['A Singapore-based insurance agent has been jailed for two years and five months for threatening to harm his clients unless they paid him in bitcoins.']\n",
      "['\"I absolutely refuse to lose them (AirPods)...So I made earrings,\" she explained.']\n",
      "[\"Adding that she hasn't been given a copy of the independent probe report, Kochhar said none of ICICI's credit decisions are unilateral\"]\n",
      "[\"Swedish multinational fast-fashion brand Hennes & Mauritz AB (H&M) has hired Christopher Wylie, the whistleblower who exposed Facebook's Cambridge Analytica data scandal.\"]\n",
      "[\"Micro-blogging platform Twitter is testing a new feature on Android to put news on the top of a user's timeline.\"]\n",
      "['Samsung has started mass producing its one terabyte \\'embedded Universal Flash Storage (eUFS) 2.1\\' technology for \"use in next-generation mobile applications\", which it claims is the industry\\'s first such eUFS.']\n",
      "[\"Prime Minister Narendra Modi on Wednesday said the people with 'negative mindset' are questioning him and his government for floating pro-poor schemes.\"]\n",
      "['Union Minister Anantkumar Hegde took a dig at Congress President Rahul Gandhi by calling him a \"hybrid specimen\" who has no clue about religion.', 'He added such \"hybrid specimen\" cannot be found in any laboratory in the world.']\n",
      "['Several parts of the US are set to experience record low temperatures as the polar vortex hit the Upper Midwest, with more than 200 million people expected to experience below-freezing temperatures this week.']\n",
      "['The police on Wednesday registered cases against 13 persons, including a woman leader of Hindu Mahasabha, in Aligarh for firing at an effigy of Mahatma Gandhi with an air pistol.']\n",
      "['Railway police has rescued a woman travelling on a train in Chennai who got her leg stuck inside the commode of a toilet.']\n",
      "['The US on Tuesday began returning asylum seekers to Mexico, sending back a migrant from a Central American nation and called the move a \"response to the illegal migration crisis\" faced by it.']\n"
     ]
    }
   ],
   "source": [
    "for i in range(1,50):\n",
    "    data1_text = data['text'].iloc[i]\n",
    "    print(summarize(data1_text,ratio=0.6,split = True))\n"
   ]
  },
  {
   "cell_type": "code",
   "execution_count": null,
   "id": "33c4ff19",
   "metadata": {},
   "outputs": [],
   "source": []
  },
  {
   "cell_type": "markdown",
   "id": "3fb88b77",
   "metadata": {},
   "source": [
    "## 회고\n",
    "전처리 시간 너무 오래 걸린다. \n",
    "summa 부분에서 무한루프에 시간을 너무 많이 써서 뭔가 다양한 시도를 해보지 못해서 아쉽다. \n",
    "다른 그루분들이 도와줘서 summa 까지 완성은 다해서 재밌는 경험이였다.\n"
   ]
  },
  {
   "cell_type": "code",
   "execution_count": null,
   "id": "8f133e71",
   "metadata": {},
   "outputs": [],
   "source": []
  }
 ],
 "metadata": {
  "kernelspec": {
   "display_name": "Python 3 (ipykernel)",
   "language": "python",
   "name": "python3"
  },
  "language_info": {
   "codemirror_mode": {
    "name": "ipython",
    "version": 3
   },
   "file_extension": ".py",
   "mimetype": "text/x-python",
   "name": "python",
   "nbconvert_exporter": "python",
   "pygments_lexer": "ipython3",
   "version": "3.9.7"
  }
 },
 "nbformat": 4,
 "nbformat_minor": 5
}
