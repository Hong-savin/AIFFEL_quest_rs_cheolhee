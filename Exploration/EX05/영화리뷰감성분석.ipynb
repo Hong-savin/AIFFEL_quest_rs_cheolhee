{
 "cells": [
  {
   "cell_type": "code",
   "execution_count": 42,
   "id": "87a9cfb9",
   "metadata": {},
   "outputs": [],
   "source": [
    "import pandas as pd\n",
    "import numpy as np\n",
    "import tensorflow as tf\n",
    "from collections import Counter\n",
    "from konlpy.tag import Mecab\n",
    "from transformers import TFDistilBertModel, DistilBertTokenizer"
   ]
  },
  {
   "cell_type": "markdown",
   "id": "d05bdaff",
   "metadata": {},
   "source": [
    "## 데이터 준비"
   ]
  },
  {
   "cell_type": "code",
   "execution_count": 43,
   "id": "4a33d237",
   "metadata": {},
   "outputs": [
    {
     "data": {
      "text/html": [
       "<div>\n",
       "<style scoped>\n",
       "    .dataframe tbody tr th:only-of-type {\n",
       "        vertical-align: middle;\n",
       "    }\n",
       "\n",
       "    .dataframe tbody tr th {\n",
       "        vertical-align: top;\n",
       "    }\n",
       "\n",
       "    .dataframe thead th {\n",
       "        text-align: right;\n",
       "    }\n",
       "</style>\n",
       "<table border=\"1\" class=\"dataframe\">\n",
       "  <thead>\n",
       "    <tr style=\"text-align: right;\">\n",
       "      <th></th>\n",
       "      <th>id</th>\n",
       "      <th>document</th>\n",
       "      <th>label</th>\n",
       "    </tr>\n",
       "  </thead>\n",
       "  <tbody>\n",
       "    <tr>\n",
       "      <th>0</th>\n",
       "      <td>9976970</td>\n",
       "      <td>아 더빙.. 진짜 짜증나네요 목소리</td>\n",
       "      <td>0</td>\n",
       "    </tr>\n",
       "    <tr>\n",
       "      <th>1</th>\n",
       "      <td>3819312</td>\n",
       "      <td>흠...포스터보고 초딩영화줄....오버연기조차 가볍지 않구나</td>\n",
       "      <td>1</td>\n",
       "    </tr>\n",
       "    <tr>\n",
       "      <th>2</th>\n",
       "      <td>10265843</td>\n",
       "      <td>너무재밓었다그래서보는것을추천한다</td>\n",
       "      <td>0</td>\n",
       "    </tr>\n",
       "    <tr>\n",
       "      <th>3</th>\n",
       "      <td>9045019</td>\n",
       "      <td>교도소 이야기구먼 ..솔직히 재미는 없다..평점 조정</td>\n",
       "      <td>0</td>\n",
       "    </tr>\n",
       "    <tr>\n",
       "      <th>4</th>\n",
       "      <td>6483659</td>\n",
       "      <td>사이몬페그의 익살스런 연기가 돋보였던 영화!스파이더맨에서 늙어보이기만 했던 커스틴 ...</td>\n",
       "      <td>1</td>\n",
       "    </tr>\n",
       "  </tbody>\n",
       "</table>\n",
       "</div>"
      ],
      "text/plain": [
       "         id                                           document  label\n",
       "0   9976970                                아 더빙.. 진짜 짜증나네요 목소리      0\n",
       "1   3819312                  흠...포스터보고 초딩영화줄....오버연기조차 가볍지 않구나      1\n",
       "2  10265843                                  너무재밓었다그래서보는것을추천한다      0\n",
       "3   9045019                      교도소 이야기구먼 ..솔직히 재미는 없다..평점 조정      0\n",
       "4   6483659  사이몬페그의 익살스런 연기가 돋보였던 영화!스파이더맨에서 늙어보이기만 했던 커스틴 ...      1"
      ]
     },
     "execution_count": 43,
     "metadata": {},
     "output_type": "execute_result"
    }
   ],
   "source": [
    "# 데이터를 읽어봅시다. \n",
    "train_data = pd.read_table('~/aiffel/sentiment_classification/data/ratings_train.txt')\n",
    "test_data = pd.read_table('~/aiffel/sentiment_classification/data/ratings_test.txt')\n",
    "\n",
    "train_data.head()\n"
   ]
  },
  {
   "cell_type": "markdown",
   "id": "eccc8384",
   "metadata": {},
   "source": [
    "## 데이터 로더"
   ]
  },
  {
   "cell_type": "code",
   "execution_count": 44,
   "id": "c401f833",
   "metadata": {},
   "outputs": [],
   "source": [
    "from konlpy.tag import Mecab\n",
    "import numpy as np\n",
    "from collections import Counter\n",
    "\n",
    "tokenizer = Mecab()\n",
    "stopwords = ['의','가','이','은','들','는','좀','잘','걍','과','도','를','으로','자','에','와','한','하다']\n",
    "\n",
    "def load_data(train_data, test_data, num_words=10000):\n",
    "    train_data.drop_duplicates(subset=['document'], inplace=True)\n",
    "    train_data = train_data.dropna(how = 'any') \n",
    "    test_data.drop_duplicates(subset=['document'], inplace=True)\n",
    "    test_data = test_data.dropna(how = 'any') \n",
    "    \n",
    "    X_train = []\n",
    "    for sentence in train_data['document']:\n",
    "        temp_X = tokenizer.morphs(sentence) # 토큰화\n",
    "        temp_X = [word for word in temp_X if not word in stopwords] # 불용어 제거\n",
    "        X_train.append(temp_X)\n",
    "\n",
    "    X_test = []\n",
    "    for sentence in test_data['document']:\n",
    "        temp_X = tokenizer.morphs(sentence) # 토큰화\n",
    "        temp_X = [word for word in temp_X if not word in stopwords] # 불용어 제거\n",
    "        X_test.append(temp_X)\n",
    "    \n",
    "    words = np.concatenate(X_train).tolist()\n",
    "    counter = Counter(words)\n",
    "    counter = counter.most_common(10000-4)\n",
    "    vocab = [ '', '', '',''] + [key for key, _ in counter]\n",
    "    word_to_index = {word:index for index, word in enumerate(vocab)}\n",
    "        \n",
    "    def wordlist_to_indexlist(wordlist):\n",
    "        return [word_to_index[word] if word in word_to_index else word_to_index[''] for word in wordlist]\n",
    "        \n",
    "    X_train = list(map(wordlist_to_indexlist, X_train))\n",
    "    X_test = list(map(wordlist_to_indexlist, X_test))\n",
    "        \n",
    "    return X_train, np.array(list(train_data['label'])), X_test, np.array(list(test_data['label'])), word_to_index\n",
    "    \n",
    "X_train, y_train, X_test, y_test, word_to_index = load_data(train_data, test_data) "
   ]
  },
  {
   "cell_type": "code",
   "execution_count": 45,
   "id": "af7351f3",
   "metadata": {},
   "outputs": [],
   "source": [
    "# 문장 1개를 활용할 딕셔너리와 함께 주면, 단어 인덱스 리스트 벡터로 변환해 주는 함수입니다. \n",
    "# 단, 모든 문장은 <BOS>로 시작하는 것으로 합니다. \n",
    "def get_encoded_sentence(sentence, word_to_index):\n",
    "    return [word_to_index['<BOS>']]+[word_to_index[word] if word in word_to_index else word_to_index['<UNK>'] for word in sentence.split()]\n",
    "\n",
    "# 여러 개의 문장 리스트를 한꺼번에 단어 인덱스 리스트 벡터로 encode해 주는 함수입니다. \n",
    "def get_encoded_sentences(sentences, word_to_index):\n",
    "    return [get_encoded_sentence(sentence, word_to_index) for sentence in sentences]\n",
    "\n",
    "# 숫자 벡터로 encode된 문장을 원래대로 decode하는 함수입니다. \n",
    "def get_decoded_sentence(encoded_sentence, index_to_word):\n",
    "    return ' '.join(index_to_word[index] if index in index_to_word else '<UNK>' for index in encoded_sentence[1:])  #[1:]를 통해 <BOS>를 제외\n",
    "\n",
    "# 여러 개의 숫자 벡터로 encode된 문장을 한꺼번에 원래대로 decode하는 함수입니다. \n",
    "def get_decoded_sentences(encoded_sentences, index_to_word):\n",
    "    return [get_decoded_sentence(encoded_sentence, index_to_word) for encoded_sentence in encoded_sentences]"
   ]
  },
  {
   "cell_type": "markdown",
   "id": "b818267c",
   "metadata": {},
   "source": [
    "## 모델 구성을 위한 데이터 가공"
   ]
  },
  {
   "cell_type": "code",
   "execution_count": 46,
   "id": "087edad4",
   "metadata": {},
   "outputs": [
    {
     "name": "stdout",
     "output_type": "stream",
     "text": [
      "<BOS>\n",
      "<UNUSED>\n",
      "더 빙 . . 진짜 짜증 나 네요 목소리\n"
     ]
    }
   ],
   "source": [
    "# Correctly assign special tokens in word_to_index\n",
    "word_to_index['<PAD>'] = 0  # 패딩용 단어\n",
    "word_to_index['<BOS>'] = 1  # 문장의 시작지점\n",
    "word_to_index['<UNK>'] = 2  # 사전에 없는(Unknown) 단어\n",
    "word_to_index['<UNUSED>'] = 3\n",
    "\n",
    "# Now reverse the word_to_index dictionary into index_to_word\n",
    "index_to_word = {index: word for word, index in word_to_index.items()}\n",
    "\n",
    "# Testing: This should now print '<BOS>' for index 1 and a common word for index 4 (if present)\n",
    "print(index_to_word[1])     # '<BOS>' 가 출력됩니다. \n",
    "print(index_to_word[3])     \n",
    "\n",
    "\n",
    "print(get_decoded_sentence(X_train[0], index_to_word))\n"
   ]
  },
  {
   "cell_type": "code",
   "execution_count": 47,
   "id": "4179c57b",
   "metadata": {},
   "outputs": [
    {
     "name": "stdout",
     "output_type": "stream",
     "text": [
      "더 빙 . . 진짜 짜증 나 네요 목소리\n",
      "라벨:  0\n"
     ]
    }
   ],
   "source": [
    "print(get_decoded_sentence(X_train[0], index_to_word))\n",
    "print('라벨: ', y_train[0])  # 1번째 리뷰데이터의 라벨"
   ]
  },
  {
   "cell_type": "code",
   "execution_count": 48,
   "id": "f135f615",
   "metadata": {},
   "outputs": [
    {
     "name": "stdout",
     "output_type": "stream",
     "text": [
      "훈련 샘플 개수: 146182, 테스트 개수: 49157\n"
     ]
    }
   ],
   "source": [
    "\n",
    "print(f\"훈련 샘플 개수: {len(X_train)}, 테스트 개수: {len(X_test)}\")"
   ]
  },
  {
   "cell_type": "code",
   "execution_count": 49,
   "id": "249a66bd",
   "metadata": {},
   "outputs": [
    {
     "name": "stdout",
     "output_type": "stream",
     "text": [
      "[32, 74, 919, 4, 4, 39, 228, 20, 33, 748]\n",
      "라벨:  0\n",
      "1번째 리뷰 문장 길이:  10\n",
      "2번째 리뷰 문장 길이:  17\n"
     ]
    }
   ],
   "source": [
    "print(X_train[0])  # 1번째 리뷰데이터\n",
    "print('라벨: ', y_train[0])  # 1번째 리뷰데이터의 라벨\n",
    "print('1번째 리뷰 문장 길이: ', len(X_train[0]))\n",
    "print('2번째 리뷰 문장 길이: ', len(X_train[1]))"
   ]
  },
  {
   "cell_type": "code",
   "execution_count": 50,
   "id": "27684dcb",
   "metadata": {},
   "outputs": [
    {
     "name": "stdout",
     "output_type": "stream",
     "text": [
      "문장 길이 분포: 최소 0, 최대 116, 평균 15.96940191154864\n",
      "적절한 최대 문장 길이: 116\n"
     ]
    }
   ],
   "source": [
    "# 문장 길이 분포 분석\n",
    "train_lengths = [len(seq) for seq in X_train]\n",
    "test_lengths = [len(seq) for seq in X_test]\n",
    "all_lengths = train_lengths + test_lengths\n",
    "max_length = max(all_lengths)\n",
    "\n",
    "print(f\"문장 길이 분포: 최소 {min(all_lengths)}, 최대 {max(all_lengths)}, 평균 {np.mean(all_lengths)}\")\n",
    "print(f\"적절한 최대 문장 길이: {max_length}\")\n"
   ]
  },
  {
   "cell_type": "code",
   "execution_count": 51,
   "id": "4c09ae2d",
   "metadata": {},
   "outputs": [
    {
     "name": "stdout",
     "output_type": "stream",
     "text": [
      "문장길이 평균 :  15.96940191154864\n",
      "문장길이 최대 :  116\n",
      "문장길이 표준편차 :  12.843571191092\n",
      "pad_sequences maxlen :  41\n",
      "전체 문장의 0.9342988343341575%가 maxlen 설정값 이내에 포함됩니다. \n"
     ]
    }
   ],
   "source": [
    "total_data_text = list(X_train) + list(X_test)\n",
    "# 텍스트데이터 문장길이의 리스트를 생성한 후\n",
    "num_tokens = [len(tokens) for tokens in total_data_text]\n",
    "num_tokens = np.array(num_tokens)\n",
    "# 문장길이의 평균값, 최대값, 표준편차를 계산해 본다. \n",
    "print('문장길이 평균 : ', np.mean(num_tokens))\n",
    "print('문장길이 최대 : ', np.max(num_tokens))\n",
    "print('문장길이 표준편차 : ', np.std(num_tokens))\n",
    "\n",
    "# 예를들어, 최대 길이를 (평균 + 2*표준편차)로 한다면,  \n",
    "max_tokens = np.mean(num_tokens) + 2 * np.std(num_tokens)\n",
    "maxlen = int(max_tokens)\n",
    "print('pad_sequences maxlen : ', maxlen)\n",
    "print(f'전체 문장의 {np.sum(num_tokens < max_tokens) / len(num_tokens)}%가 maxlen 설정값 이내에 포함됩니다. ')"
   ]
  },
  {
   "cell_type": "code",
   "execution_count": 52,
   "id": "7079e67e",
   "metadata": {},
   "outputs": [
    {
     "name": "stdout",
     "output_type": "stream",
     "text": [
      "(146182, 41)\n"
     ]
    }
   ],
   "source": [
    "\n",
    "# 패딩을 적용할 때 '<PAD>' 토큰의 인덱스를 사용\n",
    "X_train = tf.keras.preprocessing.sequence.pad_sequences(X_train,\n",
    "                                                        value=word_to_index[\"<PAD>\"],\n",
    "                                                        padding='pre',\n",
    "                                                        maxlen=maxlen)\n",
    "\n",
    "X_test = tf.keras.preprocessing.sequence.pad_sequences(X_test,\n",
    "                                                       value=word_to_index[\"<PAD>\"],\n",
    "                                                       padding='pre',\n",
    "                                                       maxlen=maxlen)\n",
    "\n",
    "print(X_train.shape)\n"
   ]
  },
  {
   "cell_type": "markdown",
   "id": "7827dec6",
   "metadata": {},
   "source": [
    "## 모델 구성 및 validation set 구성"
   ]
  },
  {
   "cell_type": "code",
   "execution_count": 70,
   "id": "b61812f7",
   "metadata": {},
   "outputs": [
    {
     "name": "stdout",
     "output_type": "stream",
     "text": [
      "Model: \"sequential_13\"\n",
      "_________________________________________________________________\n",
      "Layer (type)                 Output Shape              Param #   \n",
      "=================================================================\n",
      "embedding_13 (Embedding)     (None, 41, 16)            160000    \n",
      "_________________________________________________________________\n",
      "simple_rnn_2 (SimpleRNN)     (None, 41, 64)            5184      \n",
      "_________________________________________________________________\n",
      "conv1d_7 (Conv1D)            (None, 37, 64)            20544     \n",
      "_________________________________________________________________\n",
      "global_max_pooling1d_7 (Glob (None, 64)                0         \n",
      "_________________________________________________________________\n",
      "dense_28 (Dense)             (None, 64)                4160      \n",
      "_________________________________________________________________\n",
      "dense_29 (Dense)             (None, 32)                2080      \n",
      "_________________________________________________________________\n",
      "dense_30 (Dense)             (None, 1)                 33        \n",
      "=================================================================\n",
      "Total params: 192,001\n",
      "Trainable params: 192,001\n",
      "Non-trainable params: 0\n",
      "_________________________________________________________________\n"
     ]
    }
   ],
   "source": [
    "from keras.layers import Embedding, Conv1D, MaxPooling1D, Dropout, Dense, GRU, GlobalMaxPooling1D,SimpleRNN\n",
    "#철희 cnn + rnn\n",
    "vocab_size = 10000    # 어휘 사전의 크기입니다(10,000개의 단어)\n",
    "word_vector_dim = 16  # 워드 벡터의 차원 수 (변경 가능한 하이퍼파라미터)\n",
    "\n",
    "# 모델 설계\n",
    "rnn_cnn = tf.keras.Sequential()\n",
    "\n",
    "# Embedding Layer\n",
    "rnn_cnn.add(tf.keras.layers.Embedding(input_dim=vocab_size, output_dim=word_vector_dim, input_length=maxlen))\n",
    "\n",
    "# RNN Layer\n",
    "rnn_cnn.add(SimpleRNN(64, return_sequences=True))  # RNN의 출력으로 시퀀스를 반환하도록 설정\n",
    "\n",
    "# Conv1D Layer\n",
    "rnn_cnn.add(Conv1D(filters=64, kernel_size=5, activation='relu'))\n",
    "\n",
    "# Global Max Pooling\n",
    "rnn_cnn.add(GlobalMaxPooling1D())\n",
    "\n",
    "# Dense Layers\n",
    "rnn_cnn.add(tf.keras.layers.Dense(64, activation='relu'))\n",
    "rnn_cnn.add(tf.keras.layers.Dense(32, activation='relu'))\n",
    "rnn_cnn.add(tf.keras.layers.Dense(1, activation='sigmoid'))\n",
    "\n",
    "# 모델 요약 출력\n",
    "rnn_cnn.summary()\n"
   ]
  },
  {
   "cell_type": "code",
   "execution_count": 76,
   "id": "fd00d72d",
   "metadata": {},
   "outputs": [
    {
     "name": "stdout",
     "output_type": "stream",
     "text": [
      "Model: \"sequential_15\"\n",
      "_________________________________________________________________\n",
      "Layer (type)                 Output Shape              Param #   \n",
      "=================================================================\n",
      "embedding_15 (Embedding)     (None, None, 16)          160000    \n",
      "_________________________________________________________________\n",
      "gru_12 (GRU)                 (None, 64)                15744     \n",
      "_________________________________________________________________\n",
      "dense_32 (Dense)             (None, 64)                4160      \n",
      "_________________________________________________________________\n",
      "dense_33 (Dense)             (None, 32)                2080      \n",
      "_________________________________________________________________\n",
      "dense_34 (Dense)             (None, 1)                 33        \n",
      "=================================================================\n",
      "Total params: 182,017\n",
      "Trainable params: 182,017\n",
      "Non-trainable params: 0\n",
      "_________________________________________________________________\n"
     ]
    }
   ],
   "source": [
    "## GRU\n",
    "\n",
    "# GRU 모델 설계\n",
    "model_gru = tf.keras.Sequential()\n",
    "\n",
    "# Embedding Layer\n",
    "model_gru.add(tf.keras.layers.Embedding(input_dim=vocab_size, output_dim=word_vector_dim))\n",
    "\n",
    "# GRU Layer\n",
    "model_gru.add(tf.keras.layers.GRU(64))  # 64는 GRU 유닛 수 (하이퍼파라미터로 조정 가능)\n",
    "\n",
    "# Dense Layers\n",
    "model_gru.add(tf.keras.layers.Dense(64, activation='relu'))\n",
    "model_gru.add(tf.keras.layers.Dense(32, activation='relu'))\n",
    "model_gru.add(tf.keras.layers.Dense(1, activation='sigmoid'))\n",
    "\n",
    "model_gru.summary()\n"
   ]
  },
  {
   "cell_type": "code",
   "execution_count": 78,
   "id": "bf2f51ad",
   "metadata": {},
   "outputs": [
    {
     "name": "stdout",
     "output_type": "stream",
     "text": [
      "Model: \"sequential_17\"\n",
      "_________________________________________________________________\n",
      "Layer (type)                 Output Shape              Param #   \n",
      "=================================================================\n",
      "embedding_17 (Embedding)     (None, None, 16)          160000    \n",
      "_________________________________________________________________\n",
      "dense_36 (Dense)             (None, None, 64)          1088      \n",
      "_________________________________________________________________\n",
      "dense_37 (Dense)             (None, None, 32)          2080      \n",
      "_________________________________________________________________\n",
      "dense_38 (Dense)             (None, None, 1)           33        \n",
      "=================================================================\n",
      "Total params: 163,201\n",
      "Trainable params: 163,201\n",
      "Non-trainable params: 0\n",
      "_________________________________________________________________\n"
     ]
    }
   ],
   "source": [
    "## bi-lstm \n",
    "\n",
    "model_bi_lstm = tf.keras.Sequential()\n",
    "\n",
    "## Embedding layer\n",
    "model_bi_lstm.add(tf.keras.layers.Embedding(input_dim=vocab_size, output_dim = word_vector_dim))\n",
    "\n",
    "## bi_lstm layer\n",
    "model_bi_lstm.add(tf.keras.layers.Dense(64, activation = 'relu'))\n",
    "model_bi_lstm.add(tf.keras.layers.Dense(32, activation = 'relu'))\n",
    "model_bi_lstm.add(tf.keras.layers.Dense(1, activation = 'sigmoid'))\n",
    "\n",
    "model_bi_lstm.summary()"
   ]
  },
  {
   "cell_type": "code",
   "execution_count": 20,
   "id": "1e362148",
   "metadata": {},
   "outputs": [
    {
     "name": "stdout",
     "output_type": "stream",
     "text": [
      "(136182, 41)\n",
      "(136182,)\n"
     ]
    }
   ],
   "source": [
    "# validation set 10000건 분리\n",
    "X_val = X_train[:10000]   \n",
    "y_val = y_train[:10000]\n",
    "\n",
    "# validation set을 제외한 나머지 15000건\n",
    "partial_X_train = X_train[10000:]  \n",
    "partial_y_train = y_train[10000:]\n",
    "\n",
    "print(partial_X_train.shape)\n",
    "print(partial_y_train.shape)"
   ]
  },
  {
   "cell_type": "markdown",
   "id": "b22a9ed3",
   "metadata": {},
   "source": [
    "## 모델 훈련 개시"
   ]
  },
  {
   "cell_type": "code",
   "execution_count": 71,
   "id": "86953f19",
   "metadata": {},
   "outputs": [
    {
     "name": "stdout",
     "output_type": "stream",
     "text": [
      "Epoch 1/20\n",
      "266/266 [==============================] - 11s 38ms/step - loss: 0.4434 - accuracy: 0.7769 - val_loss: 0.3492 - val_accuracy: 0.8481\n",
      "Epoch 2/20\n",
      "266/266 [==============================] - 10s 37ms/step - loss: 0.3221 - accuracy: 0.8623 - val_loss: 0.3317 - val_accuracy: 0.8541\n",
      "Epoch 3/20\n",
      "266/266 [==============================] - 10s 38ms/step - loss: 0.2824 - accuracy: 0.8830 - val_loss: 0.3349 - val_accuracy: 0.8550\n",
      "Epoch 4/20\n",
      "266/266 [==============================] - 10s 37ms/step - loss: 0.2460 - accuracy: 0.9003 - val_loss: 0.3492 - val_accuracy: 0.8528\n",
      "Epoch 5/20\n",
      "266/266 [==============================] - 10s 37ms/step - loss: 0.2099 - accuracy: 0.9170 - val_loss: 0.3931 - val_accuracy: 0.8438\n",
      "Epoch 6/20\n",
      "266/266 [==============================] - 10s 37ms/step - loss: 0.1779 - accuracy: 0.9318 - val_loss: 0.4247 - val_accuracy: 0.8452\n",
      "Epoch 7/20\n",
      "266/266 [==============================] - 10s 37ms/step - loss: 0.1510 - accuracy: 0.9438 - val_loss: 0.4768 - val_accuracy: 0.8392\n",
      "Epoch 8/20\n",
      "266/266 [==============================] - 10s 37ms/step - loss: 0.1310 - accuracy: 0.9523 - val_loss: 0.4921 - val_accuracy: 0.8383\n",
      "Epoch 9/20\n",
      "266/266 [==============================] - 10s 37ms/step - loss: 0.1141 - accuracy: 0.9591 - val_loss: 0.5495 - val_accuracy: 0.8262\n",
      "Epoch 10/20\n",
      "266/266 [==============================] - 10s 36ms/step - loss: 0.1013 - accuracy: 0.9639 - val_loss: 0.6061 - val_accuracy: 0.8293\n",
      "Epoch 11/20\n",
      "266/266 [==============================] - 10s 36ms/step - loss: 0.0943 - accuracy: 0.9664 - val_loss: 0.6574 - val_accuracy: 0.8392\n",
      "Epoch 12/20\n",
      "266/266 [==============================] - 10s 36ms/step - loss: 0.0843 - accuracy: 0.9706 - val_loss: 0.6602 - val_accuracy: 0.8283\n",
      "Epoch 13/20\n",
      "266/266 [==============================] - 10s 36ms/step - loss: 0.0801 - accuracy: 0.9719 - val_loss: 0.6667 - val_accuracy: 0.8265\n",
      "Epoch 14/20\n",
      "266/266 [==============================] - 10s 36ms/step - loss: 0.0741 - accuracy: 0.9743 - val_loss: 0.7510 - val_accuracy: 0.8301\n",
      "Epoch 15/20\n",
      "266/266 [==============================] - 10s 36ms/step - loss: 0.0698 - accuracy: 0.9758 - val_loss: 0.7635 - val_accuracy: 0.8305\n",
      "Epoch 16/20\n",
      "266/266 [==============================] - 10s 36ms/step - loss: 0.0649 - accuracy: 0.9775 - val_loss: 0.8313 - val_accuracy: 0.8229\n",
      "Epoch 17/20\n",
      "266/266 [==============================] - 10s 36ms/step - loss: 0.0643 - accuracy: 0.9774 - val_loss: 0.7877 - val_accuracy: 0.8250\n",
      "Epoch 18/20\n",
      "266/266 [==============================] - 10s 36ms/step - loss: 0.0588 - accuracy: 0.9793 - val_loss: 0.8654 - val_accuracy: 0.8269\n",
      "Epoch 19/20\n",
      "266/266 [==============================] - 10s 36ms/step - loss: 0.0568 - accuracy: 0.9797 - val_loss: 0.9169 - val_accuracy: 0.8263\n",
      "Epoch 20/20\n",
      "266/266 [==============================] - 9s 35ms/step - loss: 0.0550 - accuracy: 0.9806 - val_loss: 0.9347 - val_accuracy: 0.8260\n"
     ]
    }
   ],
   "source": [
    "rnn_cnn.compile(optimizer='adam',\n",
    "              loss='binary_crossentropy',\n",
    "              metrics=['accuracy'])\n",
    "              \n",
    "epochs=20  # 몇 epoch를 훈련하면 좋을지 결과를 보면서 바꾸어 봅시다. \n",
    "\n",
    "rnn_cnn_history = rnn_cnn.fit(partial_X_train,\n",
    "                    partial_y_train,\n",
    "                    epochs=epochs,\n",
    "                    batch_size=512,\n",
    "                    validation_data=(X_val, y_val),\n",
    "                    verbose=1)"
   ]
  },
  {
   "cell_type": "code",
   "execution_count": 73,
   "id": "78582ead",
   "metadata": {},
   "outputs": [
    {
     "name": "stdout",
     "output_type": "stream",
     "text": [
      "1537/1537 - 7s - loss: 0.9497 - accuracy: 0.8234\n",
      "[0.9497001767158508, 0.8233821988105774]\n"
     ]
    }
   ],
   "source": [
    "rnn_cnn_results = rnn_cnn.evaluate(X_test,  y_test, verbose=2)\n",
    "\n",
    "print(rnn_cnn_results)"
   ]
  },
  {
   "cell_type": "code",
   "execution_count": 79,
   "id": "edbaf3d9",
   "metadata": {},
   "outputs": [
    {
     "name": "stdout",
     "output_type": "stream",
     "text": [
      "Epoch 1/20\n",
      "266/266 [==============================] - 4s 7ms/step - loss: 0.4317 - accuracy: 0.7946 - val_loss: 0.3479 - val_accuracy: 0.8492\n",
      "Epoch 2/20\n",
      "266/266 [==============================] - 2s 6ms/step - loss: 0.3338 - accuracy: 0.8588 - val_loss: 0.3416 - val_accuracy: 0.8530\n",
      "Epoch 3/20\n",
      "266/266 [==============================] - 2s 6ms/step - loss: 0.3196 - accuracy: 0.8652 - val_loss: 0.3522 - val_accuracy: 0.8455\n",
      "Epoch 4/20\n",
      "266/266 [==============================] - 2s 6ms/step - loss: 0.3060 - accuracy: 0.8726 - val_loss: 0.3343 - val_accuracy: 0.8542\n",
      "Epoch 5/20\n",
      "266/266 [==============================] - 1s 6ms/step - loss: 0.2878 - accuracy: 0.8797 - val_loss: 0.3280 - val_accuracy: 0.8581\n",
      "Epoch 6/20\n",
      "266/266 [==============================] - 2s 6ms/step - loss: 0.2677 - accuracy: 0.8888 - val_loss: 0.3338 - val_accuracy: 0.8589\n",
      "Epoch 7/20\n",
      "266/266 [==============================] - 2s 6ms/step - loss: 0.2501 - accuracy: 0.8971 - val_loss: 0.3336 - val_accuracy: 0.8577\n",
      "Epoch 8/20\n",
      "266/266 [==============================] - 2s 6ms/step - loss: 0.2341 - accuracy: 0.9051 - val_loss: 0.3531 - val_accuracy: 0.8579\n",
      "Epoch 9/20\n",
      "266/266 [==============================] - 2s 6ms/step - loss: 0.2197 - accuracy: 0.9123 - val_loss: 0.3618 - val_accuracy: 0.8527\n",
      "Epoch 10/20\n",
      "266/266 [==============================] - 2s 6ms/step - loss: 0.2083 - accuracy: 0.9180 - val_loss: 0.3846 - val_accuracy: 0.8524\n",
      "Epoch 11/20\n",
      "266/266 [==============================] - 2s 6ms/step - loss: 0.1961 - accuracy: 0.9236 - val_loss: 0.3901 - val_accuracy: 0.8521\n",
      "Epoch 12/20\n",
      "266/266 [==============================] - 2s 6ms/step - loss: 0.1865 - accuracy: 0.9287 - val_loss: 0.4091 - val_accuracy: 0.8511\n",
      "Epoch 13/20\n",
      "266/266 [==============================] - 2s 6ms/step - loss: 0.1761 - accuracy: 0.9338 - val_loss: 0.4225 - val_accuracy: 0.8514\n",
      "Epoch 14/20\n",
      "266/266 [==============================] - 1s 6ms/step - loss: 0.1679 - accuracy: 0.9376 - val_loss: 0.4397 - val_accuracy: 0.8438\n",
      "Epoch 15/20\n",
      "266/266 [==============================] - 2s 6ms/step - loss: 0.1592 - accuracy: 0.9413 - val_loss: 0.4627 - val_accuracy: 0.8440\n",
      "Epoch 16/20\n",
      "266/266 [==============================] - 2s 6ms/step - loss: 0.1524 - accuracy: 0.9440 - val_loss: 0.4845 - val_accuracy: 0.8448\n",
      "Epoch 17/20\n",
      "266/266 [==============================] - 2s 6ms/step - loss: 0.1450 - accuracy: 0.9469 - val_loss: 0.5234 - val_accuracy: 0.8427\n",
      "Epoch 18/20\n",
      "266/266 [==============================] - 1s 6ms/step - loss: 0.1360 - accuracy: 0.9508 - val_loss: 0.5518 - val_accuracy: 0.8421\n",
      "Epoch 19/20\n",
      "266/266 [==============================] - 2s 6ms/step - loss: 0.1295 - accuracy: 0.9536 - val_loss: 0.5782 - val_accuracy: 0.8450\n",
      "Epoch 20/20\n",
      "266/266 [==============================] - 1s 6ms/step - loss: 0.1230 - accuracy: 0.9555 - val_loss: 0.5717 - val_accuracy: 0.8384\n"
     ]
    }
   ],
   "source": [
    "## gru\n",
    "model_gru.compile(optimizer='adam',\n",
    "              loss='binary_crossentropy',\n",
    "              metrics=['accuracy'])\n",
    "              \n",
    "epochs=20  # 몇 epoch를 훈련하면 좋을지 결과를 보면서 바꾸어 봅시다. \n",
    "\n",
    "gru_history = model_gru.fit(partial_X_train,\n",
    "                    partial_y_train,\n",
    "                    epochs=epochs,\n",
    "                    batch_size=512,\n",
    "                    validation_data=(X_val, y_val),\n",
    "                    verbose=1)"
   ]
  },
  {
   "cell_type": "code",
   "execution_count": 80,
   "id": "0c6535de",
   "metadata": {},
   "outputs": [
    {
     "name": "stdout",
     "output_type": "stream",
     "text": [
      "1537/1537 - 3s - loss: 0.5850 - accuracy: 0.8388\n",
      "[0.5850167274475098, 0.8388225436210632]\n"
     ]
    }
   ],
   "source": [
    "gru_results = model_gru.evaluate(X_test,  y_test, verbose=2)\n",
    "\n",
    "print(gru_results)"
   ]
  },
  {
   "cell_type": "code",
   "execution_count": 81,
   "id": "1a8981d7",
   "metadata": {},
   "outputs": [
    {
     "name": "stdout",
     "output_type": "stream",
     "text": [
      "Epoch 1/20\n",
      "266/266 [==============================] - 2s 5ms/step - loss: 0.6794 - accuracy: 0.5380 - val_loss: 0.6740 - val_accuracy: 0.5437\n",
      "Epoch 2/20\n",
      "266/266 [==============================] - 1s 4ms/step - loss: 0.6733 - accuracy: 0.5438 - val_loss: 0.6740 - val_accuracy: 0.5428\n",
      "Epoch 3/20\n",
      "266/266 [==============================] - 1s 4ms/step - loss: 0.6730 - accuracy: 0.5424 - val_loss: 0.6736 - val_accuracy: 0.5396\n",
      "Epoch 4/20\n",
      "266/266 [==============================] - 1s 5ms/step - loss: 0.6728 - accuracy: 0.5430 - val_loss: 0.6738 - val_accuracy: 0.5394\n",
      "Epoch 5/20\n",
      "266/266 [==============================] - 1s 4ms/step - loss: 0.6726 - accuracy: 0.5442 - val_loss: 0.6739 - val_accuracy: 0.5443\n",
      "Epoch 6/20\n",
      "266/266 [==============================] - 1s 4ms/step - loss: 0.6725 - accuracy: 0.5441 - val_loss: 0.6739 - val_accuracy: 0.5394\n",
      "Epoch 7/20\n",
      "266/266 [==============================] - 1s 4ms/step - loss: 0.6724 - accuracy: 0.5445 - val_loss: 0.6737 - val_accuracy: 0.5446\n",
      "Epoch 8/20\n",
      "266/266 [==============================] - 1s 4ms/step - loss: 0.6724 - accuracy: 0.5446 - val_loss: 0.6737 - val_accuracy: 0.5452\n",
      "Epoch 9/20\n",
      "266/266 [==============================] - 1s 4ms/step - loss: 0.6723 - accuracy: 0.5456 - val_loss: 0.6739 - val_accuracy: 0.5396\n",
      "Epoch 10/20\n",
      "266/266 [==============================] - 1s 4ms/step - loss: 0.6723 - accuracy: 0.5447 - val_loss: 0.6738 - val_accuracy: 0.5446\n",
      "Epoch 11/20\n",
      "266/266 [==============================] - 1s 4ms/step - loss: 0.6723 - accuracy: 0.5441 - val_loss: 0.6740 - val_accuracy: 0.5445\n",
      "Epoch 12/20\n",
      "266/266 [==============================] - 1s 5ms/step - loss: 0.6723 - accuracy: 0.5439 - val_loss: 0.6738 - val_accuracy: 0.5449\n",
      "Epoch 13/20\n",
      "266/266 [==============================] - 1s 4ms/step - loss: 0.6723 - accuracy: 0.5453 - val_loss: 0.6739 - val_accuracy: 0.5446\n",
      "Epoch 14/20\n",
      "266/266 [==============================] - 1s 4ms/step - loss: 0.6723 - accuracy: 0.5446 - val_loss: 0.6739 - val_accuracy: 0.5451\n",
      "Epoch 15/20\n",
      "266/266 [==============================] - 1s 4ms/step - loss: 0.6723 - accuracy: 0.5455 - val_loss: 0.6739 - val_accuracy: 0.5447\n",
      "Epoch 16/20\n",
      "266/266 [==============================] - 1s 4ms/step - loss: 0.6722 - accuracy: 0.5463 - val_loss: 0.6739 - val_accuracy: 0.5396\n",
      "Epoch 17/20\n",
      "266/266 [==============================] - 1s 4ms/step - loss: 0.6722 - accuracy: 0.5443 - val_loss: 0.6738 - val_accuracy: 0.5452\n",
      "Epoch 18/20\n",
      "266/266 [==============================] - 1s 4ms/step - loss: 0.6722 - accuracy: 0.5450 - val_loss: 0.6738 - val_accuracy: 0.5447\n",
      "Epoch 19/20\n",
      "266/266 [==============================] - 1s 4ms/step - loss: 0.6722 - accuracy: 0.5441 - val_loss: 0.6738 - val_accuracy: 0.5448\n",
      "Epoch 20/20\n",
      "266/266 [==============================] - 1s 4ms/step - loss: 0.6722 - accuracy: 0.5453 - val_loss: 0.6739 - val_accuracy: 0.5396\n"
     ]
    }
   ],
   "source": [
    "## bi-lstm\n",
    "\n",
    "model_bi_lstm.compile(optimizer='adam',\n",
    "              loss='binary_crossentropy',\n",
    "              metrics=['accuracy'])\n",
    "\n",
    "epochs = 20\n",
    "\n",
    "model_bi_lstm_history = model_bi_lstm.fit(partial_X_train,\n",
    "                    partial_y_train,\n",
    "                    epochs=epochs,\n",
    "                    batch_size=512,\n",
    "                    validation_data=(X_val, y_val),\n",
    "                    verbose=1)"
   ]
  },
  {
   "cell_type": "code",
   "execution_count": 82,
   "id": "e3f34845",
   "metadata": {},
   "outputs": [
    {
     "name": "stdout",
     "output_type": "stream",
     "text": [
      "1537/1537 - 3s - loss: 0.6743 - accuracy: 0.5361\n",
      "[0.674333930015564, 0.5360787510871887]\n"
     ]
    }
   ],
   "source": [
    "bi_lstm_results = model_bi_lstm.evaluate(X_test,  y_test, verbose=2)\n",
    "\n",
    "## layer를 단순하게 쌓아서 bi-lstm의 성능은 다른것 보다 훨씬 낮게 나옴 \n",
    "print(bi_lstm_results)"
   ]
  },
  {
   "cell_type": "markdown",
   "id": "38d49764",
   "metadata": {},
   "source": [
    "## Loss, Accuracy 그래프 시각화"
   ]
  },
  {
   "cell_type": "code",
   "execution_count": 38,
   "id": "0273e54c",
   "metadata": {},
   "outputs": [],
   "source": [
    "## model_word2_gru \n",
    "\n",
    "def training_visual_fun(history):\n",
    "    history_dict = history.history\n",
    "    print(history_dict.keys()) # epoch에 따른 그래프를 그려볼 수 있는 항목들\n",
    "\n",
    "    import matplotlib.pyplot as plt\n",
    "\n",
    "    acc = history_dict['accuracy']\n",
    "    val_acc = history_dict['val_accuracy']\n",
    "    loss = history_dict['loss']\n",
    "    val_loss = history_dict['val_loss']\n",
    "\n",
    "    epochs = range(1, len(acc) + 1)\n",
    "\n",
    "    # \"bo\"는 \"파란색 점\"입니다\n",
    "    plt.plot(epochs, loss, 'bo', label='Training loss')\n",
    "    # b는 \"파란 실선\"입니다\n",
    "    plt.plot(epochs, val_loss, 'b', label='Validation loss')\n",
    "    plt.title('Training and validation loss')\n",
    "    plt.xlabel('Epochs')\n",
    "    plt.ylabel('Loss')\n",
    "    plt.legend()\n",
    "\n",
    "    plt.show()\n",
    "\n",
    "    plt.clf()   # 그림을 초기화합니다\n",
    "\n",
    "    plt.plot(epochs, acc, 'bo', label='Training acc')\n",
    "    plt.plot(epochs, val_acc, 'b', label='Validation acc')\n",
    "    plt.title('Training and validation accuracy')\n",
    "    plt.xlabel('Epochs')\n",
    "    plt.ylabel('Accuracy')\n",
    "    plt.legend()\n",
    "\n",
    "    plt.show()\n"
   ]
  },
  {
   "cell_type": "code",
   "execution_count": 74,
   "id": "ecc398d3",
   "metadata": {},
   "outputs": [
    {
     "name": "stdout",
     "output_type": "stream",
     "text": [
      "dict_keys(['loss', 'accuracy', 'val_loss', 'val_accuracy'])\n"
     ]
    },
    {
     "data": {
      "image/png": "[encoded data removed]",
      "text/plain": [
       "<Figure size 432x288 with 1 Axes>"
      ]
     },
     "metadata": {
      "needs_background": "light"
     },
     "output_type": "display_data"
    },
    {
     "data": {
      "image/png": "[encoded data removed]",
      "text/plain": [
       "<Figure size 432x288 with 1 Axes>"
      ]
     },
     "metadata": {
      "needs_background": "light"
     },
     "output_type": "display_data"
    }
   ],
   "source": [
    "## rnn graph \n",
    "training_visual_fun(rnn_cnn_history)"
   ]
  },
  {
   "cell_type": "code",
   "execution_count": 83,
   "id": "b8a4b335",
   "metadata": {},
   "outputs": [
    {
     "name": "stdout",
     "output_type": "stream",
     "text": [
      "dict_keys(['loss', 'accuracy', 'val_loss', 'val_accuracy'])\n"
     ]
    },
    {
     "data": {
      "image/png": "[encoded data removed]",
      "text/plain": [
       "<Figure size 432x288 with 1 Axes>"
      ]
     },
     "metadata": {
      "needs_background": "light"
     },
     "output_type": "display_data"
    },
    {
     "data": {
      "image/png": "[encoded data removed]",
      "text/plain": [
       "<Figure size 432x288 with 1 Axes>"
      ]
     },
     "metadata": {
      "needs_background": "light"
     },
     "output_type": "display_data"
    }
   ],
   "source": [
    "## gru graph\n",
    "training_visual_fun(gru_history)"
   ]
  },
  {
   "cell_type": "code",
   "execution_count": 84,
   "id": "8d738ac9",
   "metadata": {},
   "outputs": [
    {
     "name": "stdout",
     "output_type": "stream",
     "text": [
      "dict_keys(['loss', 'accuracy', 'val_loss', 'val_accuracy'])\n"
     ]
    },
    {
     "data": {
      "image/png": "[encoded data removed]",
      "text/plain": [
       "<Figure size 432x288 with 1 Axes>"
      ]
     },
     "metadata": {
      "needs_background": "light"
     },
     "output_type": "display_data"
    },
    {
     "data": {
      "image/png": "[encoded data removed]",
      "text/plain": [
       "<Figure size 432x288 with 1 Axes>"
      ]
     },
     "metadata": {
      "needs_background": "light"
     },
     "output_type": "display_data"
    }
   ],
   "source": [
    "## bi-lstm graph\n",
    "training_visual_fun(model_bi_lstm_history)"
   ]
  },
  {
   "cell_type": "markdown",
   "id": "c7c85ae7",
   "metadata": {},
   "source": [
    "## 학습된 Embedding 레이어 분석"
   ]
  },
  {
   "cell_type": "code",
   "execution_count": 14,
   "id": "c97c4189",
   "metadata": {},
   "outputs": [],
   "source": [
    "from gensim.models.keyedvectors import Word2VecKeyedVectors\n",
    "from tensorflow.keras.initializers import Constant\n",
    "import os"
   ]
  },
  {
   "cell_type": "code",
   "execution_count": 15,
   "id": "b3cf17fd",
   "metadata": {},
   "outputs": [
    {
     "name": "stdout",
     "output_type": "stream",
     "text": [
      "(10000, 16)\n"
     ]
    }
   ],
   "source": [
    "embedding_layer = model_gru.layers[0]\n",
    "weights = embedding_layer.get_weights()[0]\n",
    "print(weights.shape)    # shape: (vocab_size, embedding_dim)"
   ]
  },
  {
   "cell_type": "code",
   "execution_count": 85,
   "id": "4c705d87",
   "metadata": {},
   "outputs": [],
   "source": [
    "word2vec_file_path = os.getenv('HOME') + '/data/word2vec_ko.model'\n",
    "word_vectors = Word2VecKeyedVectors.load(word2vec_file_path)\n",
    "vector = word_vectors.wv['끝']"
   ]
  },
  {
   "cell_type": "code",
   "execution_count": 105,
   "id": "67beac0a",
   "metadata": {},
   "outputs": [],
   "source": [
    "vocab_size, word_vector_dim = weights.shape"
   ]
  },
  {
   "cell_type": "code",
   "execution_count": 106,
   "id": "457d87de",
   "metadata": {},
   "outputs": [],
   "source": [
    "# Save word vectors in text format\n",
    "word2vec_file_path = os.getenv('HOME') + '/aiffel/sentiment_classification/data/word2vec.txt'\n",
    "with open(word2vec_file_path, 'w') as f:\n",
    "    # Write header\n",
    "    f.write(f'{vocab_size-4} {word_vector_dim}\\n')  # Excluding special characters (4)\n",
    "\n",
    "    # Write word vectors\n",
    "    for i in range(4, vocab_size):\n",
    "        vector_str = ' '.join(map(str, weights[i]))\n",
    "        f.write(f'{index_to_word[i]} {vector_str}\\n')"
   ]
  },
  {
   "cell_type": "code",
   "execution_count": 107,
   "id": "de46cdab",
   "metadata": {},
   "outputs": [],
   "source": [
    "# Load the word2vec model from the text file\n",
    "word_vectors = Word2VecKeyedVectors.load_word2vec_format(word2vec_file_path, binary=False)"
   ]
  },
  {
   "cell_type": "code",
   "execution_count": 108,
   "id": "21a88f5c",
   "metadata": {},
   "outputs": [
    {
     "name": "stdout",
     "output_type": "stream",
     "text": [
      "[-0.01218949 -0.01249907 -0.02062918  0.1087789   0.04511596  0.06844802\n",
      "  0.10844214  0.02444657  0.16145709 -0.01693981  0.09117778  0.01697042\n",
      " -0.10961835  0.05780992 -0.0015825   0.0028042 ]\n"
     ]
    }
   ],
   "source": [
    "# Test with a sample word vector\n",
    "vector = word_vectors['컴퓨터']\n",
    "print(vector)"
   ]
  },
  {
   "cell_type": "code",
   "execution_count": 112,
   "id": "5878c7dd",
   "metadata": {},
   "outputs": [
    {
     "data": {
      "text/plain": [
       "[('소원', 0.8269624710083008),\n",
       " ('력', 0.8263224363327026),\n",
       " ('역동', 0.825524091720581),\n",
       " ('라면서', 0.8177840709686279),\n",
       " ('성형', 0.8098635673522949),\n",
       " ('내릴', 0.8021910190582275),\n",
       " ('셔야', 0.7920616269111633),\n",
       " ('기계', 0.7909428477287292),\n",
       " ('벼', 0.7876726984977722),\n",
       " ('정식', 0.7866978645324707)]"
      ]
     },
     "execution_count": 112,
     "metadata": {},
     "output_type": "execute_result"
    }
   ],
   "source": [
    "word_vectors.similar_by_word(\"컴퓨터\", topn=10) "
   ]
  },
  {
   "cell_type": "markdown",
   "id": "956a3140",
   "metadata": {},
   "source": [
    "## 한국어 Word2Vec 임베딩 활용하여 성능 개선"
   ]
  },
  {
   "cell_type": "code",
   "execution_count": 88,
   "id": "c3ca851e",
   "metadata": {},
   "outputs": [],
   "source": [
    "vocab_size = 10000    # 어휘 사전의 크기입니다(10,000개의 단어)\n",
    "word_vector_dim = 100  # 워드 벡터의 차원수\n",
    "embedding_matrix = np.random.rand(vocab_size, word_vector_dim)\n",
    "\n",
    "# embedding_matrix에 Word2Vec 워드 벡터를 단어 하나씩마다 차례차례 카피한다.\n",
    "for i in range(4,vocab_size):\n",
    "    if index_to_word[i] in word_vectors.wv:\n",
    "        embedding_matrix[i] = word_vectors.wv[[index_to_word[i]]]"
   ]
  },
  {
   "cell_type": "code",
   "execution_count": 89,
   "id": "020969f2",
   "metadata": {},
   "outputs": [
    {
     "name": "stdout",
     "output_type": "stream",
     "text": [
      "Model: \"sequential_18\"\n",
      "_________________________________________________________________\n",
      "Layer (type)                 Output Shape              Param #   \n",
      "=================================================================\n",
      "embedding_18 (Embedding)     (None, 41, 100)           1000000   \n",
      "_________________________________________________________________\n",
      "conv1d_8 (Conv1D)            (None, 37, 64)            32064     \n",
      "_________________________________________________________________\n",
      "bidirectional_5 (Bidirection (None, 37, 128)           66048     \n",
      "_________________________________________________________________\n",
      "gru_13 (GRU)                 (None, 37, 32)            15552     \n",
      "_________________________________________________________________\n",
      "dropout_10 (Dropout)         (None, 37, 32)            0         \n",
      "_________________________________________________________________\n",
      "batch_normalization_7 (Batch (None, 37, 32)            128       \n",
      "_________________________________________________________________\n",
      "global_max_pooling1d_8 (Glob (None, 32)                0         \n",
      "_________________________________________________________________\n",
      "dense_39 (Dense)             (None, 64)                2112      \n",
      "_________________________________________________________________\n",
      "dropout_11 (Dropout)         (None, 64)                0         \n",
      "_________________________________________________________________\n",
      "dense_40 (Dense)             (None, 32)                2080      \n",
      "_________________________________________________________________\n",
      "dense_41 (Dense)             (None, 1)                 33        \n",
      "=================================================================\n",
      "Total params: 1,118,017\n",
      "Trainable params: 1,117,953\n",
      "Non-trainable params: 64\n",
      "_________________________________________________________________\n"
     ]
    }
   ],
   "source": [
    "from keras.layers import GRU, LSTM, Dense, Dropout, Embedding, Conv1D, GlobalMaxPooling1D, BatchNormalization, Bidirectional\n",
    "# GRU + Bi-LSTM 모델 설계\n",
    "model_bi_lstm_gru = tf.keras.Sequential()\n",
    "\n",
    "# Embedding Layer\n",
    "model_bi_lstm_gru.add(Embedding(vocab_size, \n",
    "                                 word_vector_dim, \n",
    "                                 embeddings_initializer=Constant(embedding_matrix),\n",
    "                                 input_length=maxlen, \n",
    "                                 trainable=True))  ## 사전 훈련된 모델 fine-tunning\n",
    "\n",
    "\n",
    "# Conv1D Layer -> text에서 공간적인 정보는 필요없을 거 같아서 Conv1D로 설정 \n",
    "model_bi_lstm_gru.add(Conv1D(filters=64, kernel_size=5, activation='relu'))\n",
    "\n",
    "# Bi-LSTM Layer -> 단순히 GRU만으로 설계했을 때 dropout 때문인지 85를 넘기지 못해서 양방향으로 읽게 함 \n",
    "## lstm에서 각 timestamp에 대한 정보가 다음 layer에 필요할 것 같아서 return_sequence = True로 설정 \n",
    "model_bi_lstm_gru.add(Bidirectional(LSTM(64, return_sequences=True)))  \n",
    "\n",
    "# GRU Layer\n",
    "model_bi_lstm_gru.add(GRU(32, return_sequences= True))  # GRU Layer \n",
    "model_bi_lstm_gru.add(Dropout(0.3))  # Dropout 추가\n",
    "\n",
    "# Batch Normalization\n",
    "model_bi_lstm_gru.add(BatchNormalization())\n",
    "\n",
    "# Pooling and Dense Layers\n",
    "model_bi_lstm_gru.add(GlobalMaxPooling1D())\n",
    "model_bi_lstm_gru.add(Dense(64, activation='relu'))\n",
    "model_bi_lstm_gru.add(Dropout(0.5))  # Dropout 추가\n",
    "model_bi_lstm_gru.add(Dense(32, activation='relu'))\n",
    "model_bi_lstm_gru.add(Dense(1, activation='sigmoid'))\n",
    "\n",
    "\n",
    "model_bi_lstm_gru.summary()"
   ]
  },
  {
   "cell_type": "code",
   "execution_count": 90,
   "id": "9d0c7b35",
   "metadata": {},
   "outputs": [
    {
     "name": "stdout",
     "output_type": "stream",
     "text": [
      "Epoch 1/100\n",
      "266/266 [==============================] - 9s 18ms/step - loss: 0.5296 - accuracy: 0.7310 - val_loss: 0.4589 - val_accuracy: 0.7921\n",
      "Epoch 2/100\n",
      "266/266 [==============================] - 4s 14ms/step - loss: 0.3926 - accuracy: 0.8247 - val_loss: 0.3821 - val_accuracy: 0.8302\n",
      "Epoch 3/100\n",
      "266/266 [==============================] - 4s 14ms/step - loss: 0.3373 - accuracy: 0.8535 - val_loss: 0.3516 - val_accuracy: 0.8458\n",
      "Epoch 4/100\n",
      "266/266 [==============================] - 4s 14ms/step - loss: 0.3033 - accuracy: 0.8698 - val_loss: 0.3428 - val_accuracy: 0.8541\n",
      "Epoch 5/100\n",
      "266/266 [==============================] - 4s 14ms/step - loss: 0.2794 - accuracy: 0.8821 - val_loss: 0.3411 - val_accuracy: 0.8531\n",
      "Epoch 6/100\n",
      "266/266 [==============================] - 4s 14ms/step - loss: 0.2595 - accuracy: 0.8922 - val_loss: 0.3362 - val_accuracy: 0.8546\n",
      "Epoch 7/100\n",
      "266/266 [==============================] - 4s 14ms/step - loss: 0.2393 - accuracy: 0.9025 - val_loss: 0.3461 - val_accuracy: 0.8417\n",
      "Epoch 8/100\n",
      "266/266 [==============================] - 4s 14ms/step - loss: 0.2225 - accuracy: 0.9103 - val_loss: 0.3398 - val_accuracy: 0.8575\n",
      "Epoch 9/100\n",
      "266/266 [==============================] - 4s 14ms/step - loss: 0.2030 - accuracy: 0.9189 - val_loss: 0.3401 - val_accuracy: 0.8538\n",
      "Epoch 10/100\n",
      "266/266 [==============================] - 4s 14ms/step - loss: 0.1859 - accuracy: 0.9270 - val_loss: 0.3453 - val_accuracy: 0.8469\n",
      "Epoch 11/100\n",
      "266/266 [==============================] - 4s 14ms/step - loss: 0.1690 - accuracy: 0.9346 - val_loss: 0.3576 - val_accuracy: 0.8560\n",
      "Epoch 12/100\n",
      "266/266 [==============================] - 4s 14ms/step - loss: 0.1546 - accuracy: 0.9404 - val_loss: 0.3594 - val_accuracy: 0.8504\n",
      "Epoch 13/100\n",
      "266/266 [==============================] - 4s 14ms/step - loss: 0.1381 - accuracy: 0.9483 - val_loss: 0.3632 - val_accuracy: 0.8476\n",
      "Epoch 14/100\n",
      "266/266 [==============================] - 4s 14ms/step - loss: 0.1245 - accuracy: 0.9538 - val_loss: 0.4050 - val_accuracy: 0.8455\n",
      "Epoch 15/100\n",
      "266/266 [==============================] - 4s 14ms/step - loss: 0.1122 - accuracy: 0.9586 - val_loss: 0.3986 - val_accuracy: 0.8454\n",
      "Epoch 16/100\n",
      "266/266 [==============================] - 4s 14ms/step - loss: 0.1004 - accuracy: 0.9631 - val_loss: 0.3858 - val_accuracy: 0.8462\n"
     ]
    }
   ],
   "source": [
    "from keras.callbacks import EarlyStopping\n",
    "\n",
    "# 모델 컴파일\n",
    "model_bi_lstm_gru.compile(optimizer='adam',\n",
    "                         loss='binary_crossentropy',\n",
    "                         metrics=['accuracy'])\n",
    "\n",
    "# EarlyStopping 콜백 설정\n",
    "early_stopping = EarlyStopping(monitor='val_loss', patience=10, restore_best_weights=True)\n",
    "\n",
    "epochs = 100   \n",
    "\n",
    "# 모델 학습\n",
    "model_bi_lstm_gru_history = model_bi_lstm_gru.fit(partial_X_train,\n",
    "                                partial_y_train,\n",
    "                                epochs=epochs,\n",
    "                                batch_size=512,\n",
    "                                validation_data=(X_val, y_val),\n",
    "                                verbose=1,\n",
    "                                callbacks=[early_stopping])  # EarlyStopping 콜백 추가\n"
   ]
  },
  {
   "cell_type": "code",
   "execution_count": 91,
   "id": "c9cf08ba",
   "metadata": {},
   "outputs": [
    {
     "name": "stdout",
     "output_type": "stream",
     "text": [
      "1537/1537 - 6s - loss: 0.3421 - accuracy: 0.8509\n",
      "[0.3421047329902649, 0.850906252861023]\n"
     ]
    }
   ],
   "source": [
    "model_bi_lstm_gru_results = model_bi_lstm_gru.evaluate(X_test,  y_test, verbose=2)\n",
    "\n",
    "print(model_bi_lstm_gru_results)"
   ]
  },
  {
   "cell_type": "code",
   "execution_count": 92,
   "id": "c2e5940f",
   "metadata": {},
   "outputs": [
    {
     "name": "stdout",
     "output_type": "stream",
     "text": [
      "dict_keys(['loss', 'accuracy', 'val_loss', 'val_accuracy'])\n"
     ]
    },
    {
     "data": {
      "image/png": "[encoded data removed]",
      "text/plain": [
       "<Figure size 432x288 with 1 Axes>"
      ]
     },
     "metadata": {
      "needs_background": "light"
     },
     "output_type": "display_data"
    },
    {
     "data": {
      "image/png": "[encoded data removed]",
      "text/plain": [
       "<Figure size 432x288 with 1 Axes>"
      ]
     },
     "metadata": {
      "needs_background": "light"
     },
     "output_type": "display_data"
    }
   ],
   "source": [
    "training_visual_fun(model_bi_lstm_gru_history)"
   ]
  },
  {
   "cell_type": "markdown",
   "id": "2584f5f2",
   "metadata": {},
   "source": [
    "## 회고\n",
    "전처리 부분에 에러가 많이 나서 word2vec 까지 못해봐서 아쉽다. \n",
    "끝나고 나서 사전 훈련된 모델인 word2vec과 disti-bert 둘 중에 어느 모델이 성능이 더 좋은지 확인해봐야 겠다. \n",
    "https://www.mindscale.kr/course/nlg/72\n"
   ]
  },
  {
   "cell_type": "markdown",
   "id": "2dd2f69b",
   "metadata": {},
   "source": [
    "## 2차 회고\n",
    "\n",
    "처음에 BERT를 사용하려 했지만 shape 문제로 인해 Bi-LSTM으로 대체하게 됨.\n",
    "문제를 단순화하는 것이 시간 안에 과제를 끝내는 데 더 좋은 전략이라는 걸 깨담. 처음에는 dropout을 0.5로 설정했는데, 이로 인해 성능이 제한되어 정확도가 84%를 넘지 못했지만 dropout을 0.3으로 줄이자 바로 85%를 넘겼습니다. \n",
    "20 에포크로 학습해도 좋은 결과를 얻었지만, early stopping을 사용해 더 빠르게 결과를 확인할 수 있었다.\n",
    "BERT와의 성능 비교를 계획했지만, 시간이 부족해 중단하게 됨."
   ]
  },
  {
   "cell_type": "code",
   "execution_count": null,
   "id": "ebfcbe4a",
   "metadata": {},
   "outputs": [],
   "source": []
  }
 ],
 "metadata": {
  "kernelspec": {
   "display_name": "Python 3 (ipykernel)",
   "language": "python",
   "name": "python3"
  },
  "language_info": {
   "codemirror_mode": {
    "name": "ipython",
    "version": 3
   },
   "file_extension": ".py",
   "mimetype": "text/x-python",
   "name": "python",
   "nbconvert_exporter": "python",
   "pygments_lexer": "ipython3",
   "version": "3.9.7"
  }
 },
 "nbformat": 4,
 "nbformat_minor": 5
}
